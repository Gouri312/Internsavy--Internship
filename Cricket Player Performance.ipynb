{
 "cells": [
  {
   "cell_type": "code",
   "execution_count": 1,
   "id": "7660a339",
   "metadata": {},
   "outputs": [],
   "source": [
    "import numpy as np # linear algebra\n",
    "import pandas as pd # data processing, CSV file I/O (e.g. pd.read_csv)\n",
    "import matplotlib.pyplot as plt"
   ]
  },
  {
   "cell_type": "code",
   "execution_count": 106,
   "id": "e2570bba",
   "metadata": {},
   "outputs": [],
   "source": [
    "# This Python 3 environment comes with many helpful analytics libraries installed\n",
    "# It is defined by the kaggle/python Docker image: https://github.com/kaggle/docker-python\n",
    "# For example, here's several helpful packages to load\n",
    "\n",
    "import numpy as np # linear algebra\n",
    "import pandas as pd # data processing, CSV file I/O (e.g. pd.read_csv)\n",
    "import matplotlib.pyplot as plt\n",
    "import seaborn as sns\n",
    "\n",
    "# Input data files are available in the read-only \"../input/\" directory\n",
    "# For example, running this (by clicking run or pressing Shift+Enter) will list all files under the input directory\n",
    "\n",
    "import os\n",
    "for dirname, _, filenames in os.walk('/kaggle/input'):\n",
    "    for filename in filenames:\n",
    "        print(os.path.join(dirname, filename))\n",
    "\n",
    "# You can write up to 20GB to the current directory (/kaggle/working/) that gets preserved as output when you create a version using \"Save & Run All\" \n",
    "# You can also write temporary files to /kaggle/temp/, but they won't be saved outside of the current session"
   ]
  },
  {
   "cell_type": "code",
   "execution_count": 32,
   "id": "81676d59",
   "metadata": {},
   "outputs": [],
   "source": [
    "df1 = pd.read_csv('C:/Users/HP/Desktop/InternSavy/Cricket Player Performaces prediction using ML/Ground_Averages.csv') \n",
    "df2 = pd.read_csv('C:/Users/HP/Desktop/InternSavy/Cricket Player Performaces prediction using ML/ODI_Match_Results.csv') \n",
    "df3 = pd.read_csv('C:/Users/HP/Desktop/InternSavy/Cricket Player Performaces prediction using ML/ODI_Match_Totals.csv') "
   ]
  },
  {
   "cell_type": "code",
   "execution_count": 33,
   "id": "6b3c35be",
   "metadata": {},
   "outputs": [
    {
     "data": {
      "text/html": [
       "<div>\n",
       "<style scoped>\n",
       "    .dataframe tbody tr th:only-of-type {\n",
       "        vertical-align: middle;\n",
       "    }\n",
       "\n",
       "    .dataframe tbody tr th {\n",
       "        vertical-align: top;\n",
       "    }\n",
       "\n",
       "    .dataframe thead th {\n",
       "        text-align: right;\n",
       "    }\n",
       "</style>\n",
       "<table border=\"1\" class=\"dataframe\">\n",
       "  <thead>\n",
       "    <tr style=\"text-align: right;\">\n",
       "      <th></th>\n",
       "      <th>Ground</th>\n",
       "      <th>Span</th>\n",
       "      <th>Mat</th>\n",
       "      <th>Won</th>\n",
       "      <th>Tied</th>\n",
       "      <th>NR</th>\n",
       "      <th>Runs</th>\n",
       "      <th>Wkts</th>\n",
       "      <th>Balls</th>\n",
       "      <th>Ave</th>\n",
       "      <th>RPO</th>\n",
       "    </tr>\n",
       "  </thead>\n",
       "  <tbody>\n",
       "    <tr>\n",
       "      <th>0</th>\n",
       "      <td>Eden Gardens, Kolkata - India</td>\n",
       "      <td>2013-2017</td>\n",
       "      <td>4</td>\n",
       "      <td>4</td>\n",
       "      <td>0</td>\n",
       "      <td>0</td>\n",
       "      <td>2161</td>\n",
       "      <td>72</td>\n",
       "      <td>2297</td>\n",
       "      <td>30.01</td>\n",
       "      <td>5.64</td>\n",
       "    </tr>\n",
       "    <tr>\n",
       "      <th>1</th>\n",
       "      <td>Feroz Shah Kotla, Delhi - India</td>\n",
       "      <td>2013-2019</td>\n",
       "      <td>4</td>\n",
       "      <td>4</td>\n",
       "      <td>0</td>\n",
       "      <td>0</td>\n",
       "      <td>1789</td>\n",
       "      <td>75</td>\n",
       "      <td>2331</td>\n",
       "      <td>23.85</td>\n",
       "      <td>4.60</td>\n",
       "    </tr>\n",
       "    <tr>\n",
       "      <th>2</th>\n",
       "      <td>Melbourne Cricket Ground - Australia</td>\n",
       "      <td>2013-2019</td>\n",
       "      <td>15</td>\n",
       "      <td>15</td>\n",
       "      <td>0</td>\n",
       "      <td>0</td>\n",
       "      <td>7656</td>\n",
       "      <td>217</td>\n",
       "      <td>8482</td>\n",
       "      <td>35.28</td>\n",
       "      <td>5.41</td>\n",
       "    </tr>\n",
       "    <tr>\n",
       "      <th>3</th>\n",
       "      <td>Saurashtra Cricket Association Stadium, Rajkot...</td>\n",
       "      <td>2013-2015</td>\n",
       "      <td>2</td>\n",
       "      <td>2</td>\n",
       "      <td>0</td>\n",
       "      <td>0</td>\n",
       "      <td>1163</td>\n",
       "      <td>26</td>\n",
       "      <td>1200</td>\n",
       "      <td>44.73</td>\n",
       "      <td>5.81</td>\n",
       "    </tr>\n",
       "    <tr>\n",
       "      <th>4</th>\n",
       "      <td>Adelaide Oval - Australia</td>\n",
       "      <td>2013-2019</td>\n",
       "      <td>10</td>\n",
       "      <td>10</td>\n",
       "      <td>0</td>\n",
       "      <td>0</td>\n",
       "      <td>4863</td>\n",
       "      <td>157</td>\n",
       "      <td>5645</td>\n",
       "      <td>30.97</td>\n",
       "      <td>5.16</td>\n",
       "    </tr>\n",
       "  </tbody>\n",
       "</table>\n",
       "</div>"
      ],
      "text/plain": [
       "                                              Ground       Span  Mat  Won  \\\n",
       "0                      Eden Gardens, Kolkata - India  2013-2017    4    4   \n",
       "1                    Feroz Shah Kotla, Delhi - India  2013-2019    4    4   \n",
       "2               Melbourne Cricket Ground - Australia  2013-2019   15   15   \n",
       "3  Saurashtra Cricket Association Stadium, Rajkot...  2013-2015    2    2   \n",
       "4                          Adelaide Oval - Australia  2013-2019   10   10   \n",
       "\n",
       "   Tied  NR  Runs  Wkts  Balls    Ave   RPO  \n",
       "0     0   0  2161    72   2297  30.01  5.64  \n",
       "1     0   0  1789    75   2331  23.85  4.60  \n",
       "2     0   0  7656   217   8482  35.28  5.41  \n",
       "3     0   0  1163    26   1200  44.73  5.81  \n",
       "4     0   0  4863   157   5645  30.97  5.16  "
      ]
     },
     "execution_count": 33,
     "metadata": {},
     "output_type": "execute_result"
    }
   ],
   "source": [
    "df1.head(5)\n"
   ]
  },
  {
   "cell_type": "code",
   "execution_count": 34,
   "id": "2bd78431",
   "metadata": {},
   "outputs": [
    {
     "data": {
      "text/html": [
       "<div>\n",
       "<style scoped>\n",
       "    .dataframe tbody tr th:only-of-type {\n",
       "        vertical-align: middle;\n",
       "    }\n",
       "\n",
       "    .dataframe tbody tr th {\n",
       "        vertical-align: top;\n",
       "    }\n",
       "\n",
       "    .dataframe thead th {\n",
       "        text-align: right;\n",
       "    }\n",
       "</style>\n",
       "<table border=\"1\" class=\"dataframe\">\n",
       "  <thead>\n",
       "    <tr style=\"text-align: right;\">\n",
       "      <th></th>\n",
       "      <th>Unnamed: 0</th>\n",
       "      <th>Result</th>\n",
       "      <th>Margin</th>\n",
       "      <th>BR</th>\n",
       "      <th>Toss</th>\n",
       "      <th>Bat</th>\n",
       "      <th>Opposition</th>\n",
       "      <th>Ground</th>\n",
       "      <th>Start Date</th>\n",
       "      <th>Match_ID</th>\n",
       "      <th>Country</th>\n",
       "      <th>Country_ID</th>\n",
       "    </tr>\n",
       "  </thead>\n",
       "  <tbody>\n",
       "    <tr>\n",
       "      <th>0</th>\n",
       "      <td>418</td>\n",
       "      <td>won</td>\n",
       "      <td>85 runs</td>\n",
       "      <td>NaN</td>\n",
       "      <td>lost</td>\n",
       "      <td>1st</td>\n",
       "      <td>v India</td>\n",
       "      <td>Kolkata</td>\n",
       "      <td>3 Jan 2013</td>\n",
       "      <td>ODI # 3315</td>\n",
       "      <td>Pakistan</td>\n",
       "      <td>7</td>\n",
       "    </tr>\n",
       "    <tr>\n",
       "      <th>1</th>\n",
       "      <td>692</td>\n",
       "      <td>lost</td>\n",
       "      <td>85 runs</td>\n",
       "      <td>NaN</td>\n",
       "      <td>won</td>\n",
       "      <td>2nd</td>\n",
       "      <td>v Pakistan</td>\n",
       "      <td>Kolkata</td>\n",
       "      <td>3 Jan 2013</td>\n",
       "      <td>ODI # 3315</td>\n",
       "      <td>India</td>\n",
       "      <td>6</td>\n",
       "    </tr>\n",
       "    <tr>\n",
       "      <th>2</th>\n",
       "      <td>419</td>\n",
       "      <td>lost</td>\n",
       "      <td>10 runs</td>\n",
       "      <td>NaN</td>\n",
       "      <td>lost</td>\n",
       "      <td>2nd</td>\n",
       "      <td>v India</td>\n",
       "      <td>Delhi</td>\n",
       "      <td>6 Jan 2013</td>\n",
       "      <td>ODI # 3316</td>\n",
       "      <td>Pakistan</td>\n",
       "      <td>7</td>\n",
       "    </tr>\n",
       "    <tr>\n",
       "      <th>3</th>\n",
       "      <td>693</td>\n",
       "      <td>won</td>\n",
       "      <td>10 runs</td>\n",
       "      <td>NaN</td>\n",
       "      <td>won</td>\n",
       "      <td>1st</td>\n",
       "      <td>v Pakistan</td>\n",
       "      <td>Delhi</td>\n",
       "      <td>6 Jan 2013</td>\n",
       "      <td>ODI # 3316</td>\n",
       "      <td>India</td>\n",
       "      <td>6</td>\n",
       "    </tr>\n",
       "    <tr>\n",
       "      <th>4</th>\n",
       "      <td>121</td>\n",
       "      <td>lost</td>\n",
       "      <td>107 runs</td>\n",
       "      <td>NaN</td>\n",
       "      <td>lost</td>\n",
       "      <td>2nd</td>\n",
       "      <td>v Australia</td>\n",
       "      <td>Melbourne</td>\n",
       "      <td>11 Jan 2013</td>\n",
       "      <td>ODI # 3317</td>\n",
       "      <td>SriLanka</td>\n",
       "      <td>8</td>\n",
       "    </tr>\n",
       "  </tbody>\n",
       "</table>\n",
       "</div>"
      ],
      "text/plain": [
       "   Unnamed: 0 Result    Margin  BR  Toss  Bat   Opposition     Ground  \\\n",
       "0         418    won   85 runs NaN  lost  1st      v India    Kolkata   \n",
       "1         692   lost   85 runs NaN   won  2nd   v Pakistan    Kolkata   \n",
       "2         419   lost   10 runs NaN  lost  2nd      v India      Delhi   \n",
       "3         693    won   10 runs NaN   won  1st   v Pakistan      Delhi   \n",
       "4         121   lost  107 runs NaN  lost  2nd  v Australia  Melbourne   \n",
       "\n",
       "    Start Date    Match_ID   Country  Country_ID  \n",
       "0   3 Jan 2013  ODI # 3315  Pakistan           7  \n",
       "1   3 Jan 2013  ODI # 3315     India           6  \n",
       "2   6 Jan 2013  ODI # 3316  Pakistan           7  \n",
       "3   6 Jan 2013  ODI # 3316     India           6  \n",
       "4  11 Jan 2013  ODI # 3317  SriLanka           8  "
      ]
     },
     "execution_count": 34,
     "metadata": {},
     "output_type": "execute_result"
    }
   ],
   "source": [
    "df2.head(5)"
   ]
  },
  {
   "cell_type": "code",
   "execution_count": 35,
   "id": "4cf159f8",
   "metadata": {},
   "outputs": [
    {
     "data": {
      "text/html": [
       "<div>\n",
       "<style scoped>\n",
       "    .dataframe tbody tr th:only-of-type {\n",
       "        vertical-align: middle;\n",
       "    }\n",
       "\n",
       "    .dataframe tbody tr th {\n",
       "        vertical-align: top;\n",
       "    }\n",
       "\n",
       "    .dataframe thead th {\n",
       "        text-align: right;\n",
       "    }\n",
       "</style>\n",
       "<table border=\"1\" class=\"dataframe\">\n",
       "  <thead>\n",
       "    <tr style=\"text-align: right;\">\n",
       "      <th></th>\n",
       "      <th>Unnamed: 0</th>\n",
       "      <th>Score</th>\n",
       "      <th>Overs</th>\n",
       "      <th>RPO</th>\n",
       "      <th>Target</th>\n",
       "      <th>Inns</th>\n",
       "      <th>Result</th>\n",
       "      <th>Opposition</th>\n",
       "      <th>Ground</th>\n",
       "      <th>Start Date</th>\n",
       "      <th>Match_ID</th>\n",
       "      <th>Country</th>\n",
       "      <th>Country_ID</th>\n",
       "    </tr>\n",
       "  </thead>\n",
       "  <tbody>\n",
       "    <tr>\n",
       "      <th>0</th>\n",
       "      <td>412</td>\n",
       "      <td>250</td>\n",
       "      <td>48.3</td>\n",
       "      <td>5.15</td>\n",
       "      <td>NaN</td>\n",
       "      <td>1</td>\n",
       "      <td>won</td>\n",
       "      <td>v India</td>\n",
       "      <td>Kolkata</td>\n",
       "      <td>3 Jan 2013</td>\n",
       "      <td>ODI # 3315</td>\n",
       "      <td>Pakistan</td>\n",
       "      <td>7</td>\n",
       "    </tr>\n",
       "    <tr>\n",
       "      <th>1</th>\n",
       "      <td>680</td>\n",
       "      <td>165</td>\n",
       "      <td>48.0</td>\n",
       "      <td>3.43</td>\n",
       "      <td>251.0</td>\n",
       "      <td>2</td>\n",
       "      <td>lost</td>\n",
       "      <td>v Pakistan</td>\n",
       "      <td>Kolkata</td>\n",
       "      <td>3 Jan 2013</td>\n",
       "      <td>ODI # 3315</td>\n",
       "      <td>India</td>\n",
       "      <td>6</td>\n",
       "    </tr>\n",
       "    <tr>\n",
       "      <th>2</th>\n",
       "      <td>413</td>\n",
       "      <td>157</td>\n",
       "      <td>48.5</td>\n",
       "      <td>3.21</td>\n",
       "      <td>168.0</td>\n",
       "      <td>2</td>\n",
       "      <td>lost</td>\n",
       "      <td>v India</td>\n",
       "      <td>Delhi</td>\n",
       "      <td>6 Jan 2013</td>\n",
       "      <td>ODI # 3316</td>\n",
       "      <td>Pakistan</td>\n",
       "      <td>7</td>\n",
       "    </tr>\n",
       "    <tr>\n",
       "      <th>3</th>\n",
       "      <td>681</td>\n",
       "      <td>167</td>\n",
       "      <td>43.4</td>\n",
       "      <td>3.82</td>\n",
       "      <td>NaN</td>\n",
       "      <td>1</td>\n",
       "      <td>won</td>\n",
       "      <td>v Pakistan</td>\n",
       "      <td>Delhi</td>\n",
       "      <td>6 Jan 2013</td>\n",
       "      <td>ODI # 3316</td>\n",
       "      <td>India</td>\n",
       "      <td>6</td>\n",
       "    </tr>\n",
       "    <tr>\n",
       "      <th>4</th>\n",
       "      <td>117</td>\n",
       "      <td>198</td>\n",
       "      <td>40.0</td>\n",
       "      <td>4.95</td>\n",
       "      <td>306.0</td>\n",
       "      <td>2</td>\n",
       "      <td>lost</td>\n",
       "      <td>v Australia</td>\n",
       "      <td>Melbourne</td>\n",
       "      <td>11 Jan 2013</td>\n",
       "      <td>ODI # 3317</td>\n",
       "      <td>SriLanka</td>\n",
       "      <td>8</td>\n",
       "    </tr>\n",
       "  </tbody>\n",
       "</table>\n",
       "</div>"
      ],
      "text/plain": [
       "   Unnamed: 0 Score  Overs   RPO  Target  Inns Result   Opposition     Ground  \\\n",
       "0         412   250   48.3  5.15     NaN     1    won      v India    Kolkata   \n",
       "1         680   165   48.0  3.43   251.0     2   lost   v Pakistan    Kolkata   \n",
       "2         413   157   48.5  3.21   168.0     2   lost      v India      Delhi   \n",
       "3         681   167   43.4  3.82     NaN     1    won   v Pakistan      Delhi   \n",
       "4         117   198   40.0  4.95   306.0     2   lost  v Australia  Melbourne   \n",
       "\n",
       "    Start Date    Match_ID   Country  Country_ID  \n",
       "0   3 Jan 2013  ODI # 3315  Pakistan           7  \n",
       "1   3 Jan 2013  ODI # 3315     India           6  \n",
       "2   6 Jan 2013  ODI # 3316  Pakistan           7  \n",
       "3   6 Jan 2013  ODI # 3316     India           6  \n",
       "4  11 Jan 2013  ODI # 3317  SriLanka           8  "
      ]
     },
     "execution_count": 35,
     "metadata": {},
     "output_type": "execute_result"
    }
   ],
   "source": [
    "df3.head(5)"
   ]
  },
  {
   "cell_type": "code",
   "execution_count": 36,
   "id": "7d91e94d",
   "metadata": {},
   "outputs": [
    {
     "name": "stdout",
     "output_type": "stream",
     "text": [
      "<class 'pandas.core.frame.DataFrame'>\n",
      "RangeIndex: 106 entries, 0 to 105\n",
      "Data columns (total 11 columns):\n",
      " #   Column  Non-Null Count  Dtype  \n",
      "---  ------  --------------  -----  \n",
      " 0   Ground  106 non-null    object \n",
      " 1   Span    106 non-null    object \n",
      " 2   Mat     106 non-null    int64  \n",
      " 3   Won     106 non-null    int64  \n",
      " 4   Tied    106 non-null    int64  \n",
      " 5   NR      106 non-null    int64  \n",
      " 6   Runs    106 non-null    int64  \n",
      " 7   Wkts    106 non-null    int64  \n",
      " 8   Balls   106 non-null    int64  \n",
      " 9   Ave     106 non-null    float64\n",
      " 10  RPO     106 non-null    float64\n",
      "dtypes: float64(2), int64(7), object(2)\n",
      "memory usage: 9.2+ KB\n",
      "-----------------------------------------------------------------------------------\n",
      "<class 'pandas.core.frame.DataFrame'>\n",
      "RangeIndex: 1322 entries, 0 to 1321\n",
      "Data columns (total 12 columns):\n",
      " #   Column      Non-Null Count  Dtype  \n",
      "---  ------      --------------  -----  \n",
      " 0   Unnamed: 0  1322 non-null   int64  \n",
      " 1   Result      1322 non-null   object \n",
      " 2   Margin      1322 non-null   object \n",
      " 3   BR          606 non-null    float64\n",
      " 4   Toss        1322 non-null   object \n",
      " 5   Bat         1322 non-null   object \n",
      " 6   Opposition  1322 non-null   object \n",
      " 7   Ground      1322 non-null   object \n",
      " 8   Start Date  1322 non-null   object \n",
      " 9   Match_ID    1322 non-null   object \n",
      " 10  Country     1322 non-null   object \n",
      " 11  Country_ID  1322 non-null   int64  \n",
      "dtypes: float64(1), int64(2), object(9)\n",
      "memory usage: 124.1+ KB\n",
      "-----------------------------------------------------------------------------------\n",
      "<class 'pandas.core.frame.DataFrame'>\n",
      "RangeIndex: 1296 entries, 0 to 1295\n",
      "Data columns (total 13 columns):\n",
      " #   Column      Non-Null Count  Dtype  \n",
      "---  ------      --------------  -----  \n",
      " 0   Unnamed: 0  1296 non-null   int64  \n",
      " 1   Score       1296 non-null   object \n",
      " 2   Overs       1296 non-null   float64\n",
      " 3   RPO         1296 non-null   object \n",
      " 4   Target      620 non-null    float64\n",
      " 5   Inns        1296 non-null   int64  \n",
      " 6   Result      1296 non-null   object \n",
      " 7   Opposition  1296 non-null   object \n",
      " 8   Ground      1296 non-null   object \n",
      " 9   Start Date  1296 non-null   object \n",
      " 10  Match_ID    1296 non-null   object \n",
      " 11  Country     1296 non-null   object \n",
      " 12  Country_ID  1296 non-null   int64  \n",
      "dtypes: float64(2), int64(3), object(8)\n",
      "memory usage: 131.8+ KB\n"
     ]
    }
   ],
   "source": [
    "df1.info()\n",
    "print(\"-----------------------------------------------------------------------------------\")\n",
    "df2.info()\n",
    "print(\"-----------------------------------------------------------------------------------\")\n",
    "df3.info()"
   ]
  },
  {
   "cell_type": "code",
   "execution_count": 24,
   "id": "12ff5f85",
   "metadata": {},
   "outputs": [
    {
     "data": {
      "text/plain": [
       "(106, 11)"
      ]
     },
     "execution_count": 24,
     "metadata": {},
     "output_type": "execute_result"
    }
   ],
   "source": [
    "df1.shape"
   ]
  },
  {
   "cell_type": "code",
   "execution_count": 25,
   "id": "c2e6d086",
   "metadata": {},
   "outputs": [
    {
     "data": {
      "text/plain": [
       "(1322, 12)"
      ]
     },
     "execution_count": 25,
     "metadata": {},
     "output_type": "execute_result"
    }
   ],
   "source": [
    "df2.shape"
   ]
  },
  {
   "cell_type": "code",
   "execution_count": 37,
   "id": "4e14861e",
   "metadata": {},
   "outputs": [
    {
     "data": {
      "text/plain": [
       "(1296, 13)"
      ]
     },
     "execution_count": 37,
     "metadata": {},
     "output_type": "execute_result"
    }
   ],
   "source": [
    "df3.shape"
   ]
  },
  {
   "cell_type": "code",
   "execution_count": 38,
   "id": "fd2ff243",
   "metadata": {},
   "outputs": [
    {
     "data": {
      "text/plain": [
       "Ground    0\n",
       "Span      0\n",
       "Mat       0\n",
       "Won       0\n",
       "Tied      0\n",
       "NR        0\n",
       "Runs      0\n",
       "Wkts      0\n",
       "Balls     0\n",
       "Ave       0\n",
       "RPO       0\n",
       "dtype: int64"
      ]
     },
     "execution_count": 38,
     "metadata": {},
     "output_type": "execute_result"
    }
   ],
   "source": [
    "df1.isnull().sum()"
   ]
  },
  {
   "cell_type": "code",
   "execution_count": 39,
   "id": "b6cbf218",
   "metadata": {},
   "outputs": [
    {
     "data": {
      "text/plain": [
       "Unnamed: 0      0\n",
       "Result          0\n",
       "Margin          0\n",
       "BR            716\n",
       "Toss            0\n",
       "Bat             0\n",
       "Opposition      0\n",
       "Ground          0\n",
       "Start Date      0\n",
       "Match_ID        0\n",
       "Country         0\n",
       "Country_ID      0\n",
       "dtype: int64"
      ]
     },
     "execution_count": 39,
     "metadata": {},
     "output_type": "execute_result"
    }
   ],
   "source": [
    "df2.isnull().sum()"
   ]
  },
  {
   "cell_type": "code",
   "execution_count": 40,
   "id": "66d7ae43",
   "metadata": {},
   "outputs": [
    {
     "data": {
      "text/plain": [
       "Unnamed: 0      0\n",
       "Score           0\n",
       "Overs           0\n",
       "RPO             0\n",
       "Target        676\n",
       "Inns            0\n",
       "Result          0\n",
       "Opposition      0\n",
       "Ground          0\n",
       "Start Date      0\n",
       "Match_ID        0\n",
       "Country         0\n",
       "Country_ID      0\n",
       "dtype: int64"
      ]
     },
     "execution_count": 40,
     "metadata": {},
     "output_type": "execute_result"
    }
   ],
   "source": [
    "df3.isnull().sum()"
   ]
  },
  {
   "cell_type": "raw",
   "id": "4b5af0cc",
   "metadata": {},
   "source": [
    "df2 and df3 are more or less the same. They have some common columns. We will group these two DataFrames into one.     This will help us analyse better and make the dataset more powerful."
   ]
  },
  {
   "cell_type": "code",
   "execution_count": 41,
   "id": "75f7c18f",
   "metadata": {},
   "outputs": [],
   "source": [
    "common = set.intersection(set(df2['Start Date']), set(df3['Start Date']))\n",
    "df = pd.concat([\n",
    "    df2[df2['Start Date'].isin(common)],\n",
    "    df3[df3['Start Date'].isin(common)]]).sort_values(by='Start Date')"
   ]
  },
  {
   "cell_type": "code",
   "execution_count": 43,
   "id": "0b9c2a83",
   "metadata": {},
   "outputs": [
    {
     "data": {
      "text/html": [
       "<div>\n",
       "<style scoped>\n",
       "    .dataframe tbody tr th:only-of-type {\n",
       "        vertical-align: middle;\n",
       "    }\n",
       "\n",
       "    .dataframe tbody tr th {\n",
       "        vertical-align: top;\n",
       "    }\n",
       "\n",
       "    .dataframe thead th {\n",
       "        text-align: right;\n",
       "    }\n",
       "</style>\n",
       "<table border=\"1\" class=\"dataframe\">\n",
       "  <thead>\n",
       "    <tr style=\"text-align: right;\">\n",
       "      <th></th>\n",
       "      <th>Unnamed: 0</th>\n",
       "      <th>Result</th>\n",
       "      <th>Margin</th>\n",
       "      <th>BR</th>\n",
       "      <th>Toss</th>\n",
       "      <th>Bat</th>\n",
       "      <th>Opposition</th>\n",
       "      <th>Ground</th>\n",
       "      <th>Start Date</th>\n",
       "      <th>Match_ID</th>\n",
       "      <th>Country</th>\n",
       "      <th>Country_ID</th>\n",
       "      <th>Score</th>\n",
       "      <th>Overs</th>\n",
       "      <th>RPO</th>\n",
       "      <th>Target</th>\n",
       "      <th>Inns</th>\n",
       "    </tr>\n",
       "  </thead>\n",
       "  <tbody>\n",
       "    <tr>\n",
       "      <th>891</th>\n",
       "      <td>235</td>\n",
       "      <td>won</td>\n",
       "      <td>70 runs</td>\n",
       "      <td>NaN</td>\n",
       "      <td>lost</td>\n",
       "      <td>1st</td>\n",
       "      <td>v Bangladesh</td>\n",
       "      <td>Colombo (SSC)</td>\n",
       "      <td>1 Apr 2017</td>\n",
       "      <td>ODI # 3858</td>\n",
       "      <td>SriLanka</td>\n",
       "      <td>8</td>\n",
       "      <td>NaN</td>\n",
       "      <td>NaN</td>\n",
       "      <td>NaN</td>\n",
       "      <td>NaN</td>\n",
       "      <td>NaN</td>\n",
       "    </tr>\n",
       "    <tr>\n",
       "      <th>892</th>\n",
       "      <td>1056</td>\n",
       "      <td>lost</td>\n",
       "      <td>70 runs</td>\n",
       "      <td>NaN</td>\n",
       "      <td>won</td>\n",
       "      <td>2nd</td>\n",
       "      <td>v Sri Lanka</td>\n",
       "      <td>Colombo (SSC)</td>\n",
       "      <td>1 Apr 2017</td>\n",
       "      <td>ODI # 3858</td>\n",
       "      <td>Bangladesh</td>\n",
       "      <td>25</td>\n",
       "      <td>NaN</td>\n",
       "      <td>NaN</td>\n",
       "      <td>NaN</td>\n",
       "      <td>NaN</td>\n",
       "      <td>NaN</td>\n",
       "    </tr>\n",
       "    <tr>\n",
       "      <th>870</th>\n",
       "      <td>1037</td>\n",
       "      <td>lost</td>\n",
       "      <td>NaN</td>\n",
       "      <td>NaN</td>\n",
       "      <td>NaN</td>\n",
       "      <td>NaN</td>\n",
       "      <td>v Sri Lanka</td>\n",
       "      <td>Colombo (SSC)</td>\n",
       "      <td>1 Apr 2017</td>\n",
       "      <td>ODI # 3858</td>\n",
       "      <td>Bangladesh</td>\n",
       "      <td>25</td>\n",
       "      <td>210</td>\n",
       "      <td>44.3</td>\n",
       "      <td>4.71</td>\n",
       "      <td>281.0</td>\n",
       "      <td>2.0</td>\n",
       "    </tr>\n",
       "    <tr>\n",
       "      <th>869</th>\n",
       "      <td>230</td>\n",
       "      <td>won</td>\n",
       "      <td>NaN</td>\n",
       "      <td>NaN</td>\n",
       "      <td>NaN</td>\n",
       "      <td>NaN</td>\n",
       "      <td>v Bangladesh</td>\n",
       "      <td>Colombo (SSC)</td>\n",
       "      <td>1 Apr 2017</td>\n",
       "      <td>ODI # 3858</td>\n",
       "      <td>SriLanka</td>\n",
       "      <td>8</td>\n",
       "      <td>280/9</td>\n",
       "      <td>50.0</td>\n",
       "      <td>5.60</td>\n",
       "      <td>NaN</td>\n",
       "      <td>1.0</td>\n",
       "    </tr>\n",
       "    <tr>\n",
       "      <th>148</th>\n",
       "      <td>712</td>\n",
       "      <td>won</td>\n",
       "      <td>9 wickets</td>\n",
       "      <td>115.0</td>\n",
       "      <td>won</td>\n",
       "      <td>2nd</td>\n",
       "      <td>v Zimbabwe</td>\n",
       "      <td>Bulawayo</td>\n",
       "      <td>1 Aug 2013</td>\n",
       "      <td>ODI # 3402</td>\n",
       "      <td>India</td>\n",
       "      <td>6</td>\n",
       "      <td>NaN</td>\n",
       "      <td>NaN</td>\n",
       "      <td>NaN</td>\n",
       "      <td>NaN</td>\n",
       "      <td>NaN</td>\n",
       "    </tr>\n",
       "  </tbody>\n",
       "</table>\n",
       "</div>"
      ],
      "text/plain": [
       "     Unnamed: 0 Result     Margin     BR  Toss  Bat    Opposition  \\\n",
       "891         235    won    70 runs    NaN  lost  1st  v Bangladesh   \n",
       "892        1056   lost    70 runs    NaN   won  2nd   v Sri Lanka   \n",
       "870        1037   lost        NaN    NaN   NaN  NaN   v Sri Lanka   \n",
       "869         230    won        NaN    NaN   NaN  NaN  v Bangladesh   \n",
       "148         712    won  9 wickets  115.0   won  2nd    v Zimbabwe   \n",
       "\n",
       "            Ground  Start Date    Match_ID     Country  Country_ID  Score  \\\n",
       "891  Colombo (SSC)  1 Apr 2017  ODI # 3858    SriLanka           8    NaN   \n",
       "892  Colombo (SSC)  1 Apr 2017  ODI # 3858  Bangladesh          25    NaN   \n",
       "870  Colombo (SSC)  1 Apr 2017  ODI # 3858  Bangladesh          25    210   \n",
       "869  Colombo (SSC)  1 Apr 2017  ODI # 3858    SriLanka           8  280/9   \n",
       "148       Bulawayo  1 Aug 2013  ODI # 3402       India           6    NaN   \n",
       "\n",
       "     Overs   RPO  Target  Inns  \n",
       "891    NaN   NaN     NaN   NaN  \n",
       "892    NaN   NaN     NaN   NaN  \n",
       "870   44.3  4.71   281.0   2.0  \n",
       "869   50.0  5.60     NaN   1.0  \n",
       "148    NaN   NaN     NaN   NaN  "
      ]
     },
     "execution_count": 43,
     "metadata": {},
     "output_type": "execute_result"
    }
   ],
   "source": [
    "df.head()"
   ]
  },
  {
   "cell_type": "code",
   "execution_count": 44,
   "id": "e4005204",
   "metadata": {},
   "outputs": [
    {
     "data": {
      "text/plain": [
       "Unnamed: 0       0\n",
       "Result           0\n",
       "Margin        1296\n",
       "BR            1991\n",
       "Toss          1296\n",
       "Bat           1296\n",
       "Opposition       0\n",
       "Ground           0\n",
       "Start Date       0\n",
       "Match_ID         0\n",
       "Country          0\n",
       "Country_ID       0\n",
       "Score         1301\n",
       "Overs         1301\n",
       "RPO           1301\n",
       "Target        1977\n",
       "Inns          1301\n",
       "dtype: int64"
      ]
     },
     "execution_count": 44,
     "metadata": {},
     "output_type": "execute_result"
    }
   ],
   "source": [
    "df.isnull().sum()"
   ]
  },
  {
   "cell_type": "code",
   "execution_count": 45,
   "id": "9170f8e4",
   "metadata": {},
   "outputs": [
    {
     "name": "stdout",
     "output_type": "stream",
     "text": [
      "<class 'pandas.core.frame.DataFrame'>\n",
      "Int64Index: 2597 entries, 891 to 790\n",
      "Data columns (total 17 columns):\n",
      " #   Column      Non-Null Count  Dtype  \n",
      "---  ------      --------------  -----  \n",
      " 0   Unnamed: 0  2597 non-null   int64  \n",
      " 1   Result      2597 non-null   object \n",
      " 2   Margin      1301 non-null   object \n",
      " 3   BR          606 non-null    float64\n",
      " 4   Toss        1301 non-null   object \n",
      " 5   Bat         1301 non-null   object \n",
      " 6   Opposition  2597 non-null   object \n",
      " 7   Ground      2597 non-null   object \n",
      " 8   Start Date  2597 non-null   object \n",
      " 9   Match_ID    2597 non-null   object \n",
      " 10  Country     2597 non-null   object \n",
      " 11  Country_ID  2597 non-null   int64  \n",
      " 12  Score       1296 non-null   object \n",
      " 13  Overs       1296 non-null   float64\n",
      " 14  RPO         1296 non-null   object \n",
      " 15  Target      620 non-null    float64\n",
      " 16  Inns        1296 non-null   float64\n",
      "dtypes: float64(4), int64(2), object(11)\n",
      "memory usage: 365.2+ KB\n"
     ]
    }
   ],
   "source": [
    "df.info()"
   ]
  },
  {
   "cell_type": "code",
   "execution_count": 46,
   "id": "9a800289",
   "metadata": {},
   "outputs": [
    {
     "name": "stdout",
     "output_type": "stream",
     "text": [
      "<class 'pandas.core.frame.DataFrame'>\n",
      "Int64Index: 2597 entries, 891 to 790\n",
      "Data columns (total 17 columns):\n",
      " #   Column      Non-Null Count  Dtype         \n",
      "---  ------      --------------  -----         \n",
      " 0   Unnamed: 0  2597 non-null   int64         \n",
      " 1   Result      2597 non-null   object        \n",
      " 2   Margin      1301 non-null   object        \n",
      " 3   BR          606 non-null    float64       \n",
      " 4   Toss        1301 non-null   object        \n",
      " 5   Bat         1301 non-null   object        \n",
      " 6   Opposition  2597 non-null   object        \n",
      " 7   Ground      2597 non-null   object        \n",
      " 8   Start Date  2597 non-null   datetime64[ns]\n",
      " 9   Match_ID    2597 non-null   object        \n",
      " 10  Country     2597 non-null   object        \n",
      " 11  Country_ID  2597 non-null   int64         \n",
      " 12  Score       1296 non-null   object        \n",
      " 13  Overs       1296 non-null   float64       \n",
      " 14  RPO         1296 non-null   object        \n",
      " 15  Target      620 non-null    float64       \n",
      " 16  Inns        1296 non-null   float64       \n",
      "dtypes: datetime64[ns](1), float64(4), int64(2), object(10)\n",
      "memory usage: 365.2+ KB\n"
     ]
    }
   ],
   "source": [
    "#Converting Start Date column to Time and Date datatype \n",
    "df['Start Date']= pd.to_datetime(df['Start Date'])\n",
    "df.info()"
   ]
  },
  {
   "cell_type": "code",
   "execution_count": 47,
   "id": "aded9a66",
   "metadata": {},
   "outputs": [
    {
     "data": {
      "text/html": [
       "<div>\n",
       "<style scoped>\n",
       "    .dataframe tbody tr th:only-of-type {\n",
       "        vertical-align: middle;\n",
       "    }\n",
       "\n",
       "    .dataframe tbody tr th {\n",
       "        vertical-align: top;\n",
       "    }\n",
       "\n",
       "    .dataframe thead th {\n",
       "        text-align: right;\n",
       "    }\n",
       "</style>\n",
       "<table border=\"1\" class=\"dataframe\">\n",
       "  <thead>\n",
       "    <tr style=\"text-align: right;\">\n",
       "      <th></th>\n",
       "      <th>Unnamed: 0</th>\n",
       "      <th>Result</th>\n",
       "      <th>Margin</th>\n",
       "      <th>BR</th>\n",
       "      <th>Toss</th>\n",
       "      <th>Bat</th>\n",
       "      <th>Opposition</th>\n",
       "      <th>Ground</th>\n",
       "      <th>Start Date</th>\n",
       "      <th>Match_ID</th>\n",
       "      <th>Country</th>\n",
       "      <th>Country_ID</th>\n",
       "      <th>Score</th>\n",
       "      <th>Overs</th>\n",
       "      <th>RPO</th>\n",
       "      <th>Target</th>\n",
       "      <th>Inns</th>\n",
       "    </tr>\n",
       "  </thead>\n",
       "  <tbody>\n",
       "    <tr>\n",
       "      <th>891</th>\n",
       "      <td>235</td>\n",
       "      <td>won</td>\n",
       "      <td>70 runs</td>\n",
       "      <td>NaN</td>\n",
       "      <td>lost</td>\n",
       "      <td>1st</td>\n",
       "      <td>v Bangladesh</td>\n",
       "      <td>Colombo (SSC)</td>\n",
       "      <td>2017-04-01</td>\n",
       "      <td>ODI # 3858</td>\n",
       "      <td>SriLanka</td>\n",
       "      <td>8</td>\n",
       "      <td>NaN</td>\n",
       "      <td>NaN</td>\n",
       "      <td>NaN</td>\n",
       "      <td>NaN</td>\n",
       "      <td>NaN</td>\n",
       "    </tr>\n",
       "    <tr>\n",
       "      <th>892</th>\n",
       "      <td>1056</td>\n",
       "      <td>lost</td>\n",
       "      <td>70 runs</td>\n",
       "      <td>NaN</td>\n",
       "      <td>won</td>\n",
       "      <td>2nd</td>\n",
       "      <td>v Sri Lanka</td>\n",
       "      <td>Colombo (SSC)</td>\n",
       "      <td>2017-04-01</td>\n",
       "      <td>ODI # 3858</td>\n",
       "      <td>Bangladesh</td>\n",
       "      <td>25</td>\n",
       "      <td>NaN</td>\n",
       "      <td>NaN</td>\n",
       "      <td>NaN</td>\n",
       "      <td>NaN</td>\n",
       "      <td>NaN</td>\n",
       "    </tr>\n",
       "    <tr>\n",
       "      <th>870</th>\n",
       "      <td>1037</td>\n",
       "      <td>lost</td>\n",
       "      <td>NaN</td>\n",
       "      <td>NaN</td>\n",
       "      <td>NaN</td>\n",
       "      <td>NaN</td>\n",
       "      <td>v Sri Lanka</td>\n",
       "      <td>Colombo (SSC)</td>\n",
       "      <td>2017-04-01</td>\n",
       "      <td>ODI # 3858</td>\n",
       "      <td>Bangladesh</td>\n",
       "      <td>25</td>\n",
       "      <td>210</td>\n",
       "      <td>44.3</td>\n",
       "      <td>4.71</td>\n",
       "      <td>281.0</td>\n",
       "      <td>2.0</td>\n",
       "    </tr>\n",
       "    <tr>\n",
       "      <th>869</th>\n",
       "      <td>230</td>\n",
       "      <td>won</td>\n",
       "      <td>NaN</td>\n",
       "      <td>NaN</td>\n",
       "      <td>NaN</td>\n",
       "      <td>NaN</td>\n",
       "      <td>v Bangladesh</td>\n",
       "      <td>Colombo (SSC)</td>\n",
       "      <td>2017-04-01</td>\n",
       "      <td>ODI # 3858</td>\n",
       "      <td>SriLanka</td>\n",
       "      <td>8</td>\n",
       "      <td>280/9</td>\n",
       "      <td>50.0</td>\n",
       "      <td>5.60</td>\n",
       "      <td>NaN</td>\n",
       "      <td>1.0</td>\n",
       "    </tr>\n",
       "    <tr>\n",
       "      <th>148</th>\n",
       "      <td>712</td>\n",
       "      <td>won</td>\n",
       "      <td>9 wickets</td>\n",
       "      <td>115.0</td>\n",
       "      <td>won</td>\n",
       "      <td>2nd</td>\n",
       "      <td>v Zimbabwe</td>\n",
       "      <td>Bulawayo</td>\n",
       "      <td>2013-08-01</td>\n",
       "      <td>ODI # 3402</td>\n",
       "      <td>India</td>\n",
       "      <td>6</td>\n",
       "      <td>NaN</td>\n",
       "      <td>NaN</td>\n",
       "      <td>NaN</td>\n",
       "      <td>NaN</td>\n",
       "      <td>NaN</td>\n",
       "    </tr>\n",
       "  </tbody>\n",
       "</table>\n",
       "</div>"
      ],
      "text/plain": [
       "     Unnamed: 0 Result     Margin     BR  Toss  Bat    Opposition  \\\n",
       "891         235    won    70 runs    NaN  lost  1st  v Bangladesh   \n",
       "892        1056   lost    70 runs    NaN   won  2nd   v Sri Lanka   \n",
       "870        1037   lost        NaN    NaN   NaN  NaN   v Sri Lanka   \n",
       "869         230    won        NaN    NaN   NaN  NaN  v Bangladesh   \n",
       "148         712    won  9 wickets  115.0   won  2nd    v Zimbabwe   \n",
       "\n",
       "            Ground Start Date    Match_ID     Country  Country_ID  Score  \\\n",
       "891  Colombo (SSC) 2017-04-01  ODI # 3858    SriLanka           8    NaN   \n",
       "892  Colombo (SSC) 2017-04-01  ODI # 3858  Bangladesh          25    NaN   \n",
       "870  Colombo (SSC) 2017-04-01  ODI # 3858  Bangladesh          25    210   \n",
       "869  Colombo (SSC) 2017-04-01  ODI # 3858    SriLanka           8  280/9   \n",
       "148       Bulawayo 2013-08-01  ODI # 3402       India           6    NaN   \n",
       "\n",
       "     Overs   RPO  Target  Inns  \n",
       "891    NaN   NaN     NaN   NaN  \n",
       "892    NaN   NaN     NaN   NaN  \n",
       "870   44.3  4.71   281.0   2.0  \n",
       "869   50.0  5.60     NaN   1.0  \n",
       "148    NaN   NaN     NaN   NaN  "
      ]
     },
     "execution_count": 47,
     "metadata": {},
     "output_type": "execute_result"
    }
   ],
   "source": [
    "df.head()"
   ]
  },
  {
   "cell_type": "markdown",
   "id": "74b0a8cb",
   "metadata": {},
   "source": [
    "Things we can do with df: Gather data induvidually based on Opposition, Ground\n",
    "\n",
    "Result vs Toss\n",
    "Margin vs Bat\n",
    "Target, result, ground - Lowest and Highest\n",
    "How many times has 'Country' won against 'Opposition' and for what score, RPO, Target"
   ]
  },
  {
   "cell_type": "markdown",
   "id": "d456e2e3",
   "metadata": {},
   "source": [
    "## Result vs Toss"
   ]
  },
  {
   "cell_type": "code",
   "execution_count": 49,
   "id": "03a1586e",
   "metadata": {},
   "outputs": [
    {
     "data": {
      "text/html": [
       "<div>\n",
       "<style scoped>\n",
       "    .dataframe tbody tr th:only-of-type {\n",
       "        vertical-align: middle;\n",
       "    }\n",
       "\n",
       "    .dataframe tbody tr th {\n",
       "        vertical-align: top;\n",
       "    }\n",
       "\n",
       "    .dataframe thead th {\n",
       "        text-align: right;\n",
       "    }\n",
       "</style>\n",
       "<table border=\"1\" class=\"dataframe\">\n",
       "  <thead>\n",
       "    <tr style=\"text-align: right;\">\n",
       "      <th></th>\n",
       "      <th>Toss</th>\n",
       "      <th>Result</th>\n",
       "      <th>Ground</th>\n",
       "    </tr>\n",
       "  </thead>\n",
       "  <tbody>\n",
       "    <tr>\n",
       "      <th>891</th>\n",
       "      <td>lost</td>\n",
       "      <td>won</td>\n",
       "      <td>Colombo (SSC)</td>\n",
       "    </tr>\n",
       "    <tr>\n",
       "      <th>892</th>\n",
       "      <td>won</td>\n",
       "      <td>lost</td>\n",
       "      <td>Colombo (SSC)</td>\n",
       "    </tr>\n",
       "    <tr>\n",
       "      <th>148</th>\n",
       "      <td>won</td>\n",
       "      <td>won</td>\n",
       "      <td>Bulawayo</td>\n",
       "    </tr>\n",
       "    <tr>\n",
       "      <th>1135</th>\n",
       "      <td>won</td>\n",
       "      <td>lost</td>\n",
       "      <td>Dambulla</td>\n",
       "    </tr>\n",
       "    <tr>\n",
       "      <th>1136</th>\n",
       "      <td>lost</td>\n",
       "      <td>won</td>\n",
       "      <td>Dambulla</td>\n",
       "    </tr>\n",
       "    <tr>\n",
       "      <th>...</th>\n",
       "      <td>...</td>\n",
       "      <td>...</td>\n",
       "      <td>...</td>\n",
       "    </tr>\n",
       "    <tr>\n",
       "      <th>1202</th>\n",
       "      <td>lost</td>\n",
       "      <td>won</td>\n",
       "      <td>Abu Dhabi</td>\n",
       "    </tr>\n",
       "    <tr>\n",
       "      <th>792</th>\n",
       "      <td>won</td>\n",
       "      <td>lost</td>\n",
       "      <td>Dhaka</td>\n",
       "    </tr>\n",
       "    <tr>\n",
       "      <th>793</th>\n",
       "      <td>lost</td>\n",
       "      <td>won</td>\n",
       "      <td>Dhaka</td>\n",
       "    </tr>\n",
       "    <tr>\n",
       "      <th>791</th>\n",
       "      <td>won</td>\n",
       "      <td>lost</td>\n",
       "      <td>Port Elizabeth</td>\n",
       "    </tr>\n",
       "    <tr>\n",
       "      <th>790</th>\n",
       "      <td>lost</td>\n",
       "      <td>won</td>\n",
       "      <td>Port Elizabeth</td>\n",
       "    </tr>\n",
       "  </tbody>\n",
       "</table>\n",
       "<p>1301 rows × 3 columns</p>\n",
       "</div>"
      ],
      "text/plain": [
       "      Toss Result          Ground\n",
       "891   lost    won   Colombo (SSC)\n",
       "892    won   lost   Colombo (SSC)\n",
       "148    won    won        Bulawayo\n",
       "1135   won   lost        Dambulla\n",
       "1136  lost    won        Dambulla\n",
       "...    ...    ...             ...\n",
       "1202  lost    won       Abu Dhabi\n",
       "792    won   lost           Dhaka\n",
       "793   lost    won           Dhaka\n",
       "791    won   lost  Port Elizabeth\n",
       "790   lost    won  Port Elizabeth\n",
       "\n",
       "[1301 rows x 3 columns]"
      ]
     },
     "execution_count": 49,
     "metadata": {},
     "output_type": "execute_result"
    }
   ],
   "source": [
    "#Gruping required columns for problem 1  in one dataframe\n",
    "#The null values have reduced and hence the null columns can be dropped\n",
    "prob1_var = df[['Toss', 'Result', 'Ground']]\n",
    "prob1_var.dropna()"
   ]
  },
  {
   "cell_type": "code",
   "execution_count": 51,
   "id": "eb9c4aa2",
   "metadata": {},
   "outputs": [
    {
     "name": "stdout",
     "output_type": "stream",
     "text": [
      "<class 'pandas.core.frame.DataFrame'>\n",
      "Int64Index: 68 entries, 915 to 1303\n",
      "Data columns (total 3 columns):\n",
      " #   Column  Non-Null Count  Dtype \n",
      "---  ------  --------------  ----- \n",
      " 0   Toss    34 non-null     object\n",
      " 1   Result  68 non-null     object\n",
      " 2   Ground  68 non-null     object\n",
      "dtypes: object(3)\n",
      "memory usage: 2.1+ KB\n"
     ]
    }
   ],
   "source": [
    "#Grouping the data together according to the required Stadium\n",
    "prob1 = prob1_var.query('Ground == \"The Oval\"')\n",
    "prob1.info()"
   ]
  },
  {
   "cell_type": "code",
   "execution_count": 52,
   "id": "fbfa66ee",
   "metadata": {},
   "outputs": [
    {
     "data": {
      "text/plain": [
       "won     10\n",
       "lost     5\n",
       "Name: Toss, dtype: int64"
      ]
     },
     "execution_count": 52,
     "metadata": {},
     "output_type": "execute_result"
    }
   ],
   "source": [
    "#Gathering only the winning results from the dataframe\n",
    "tempvar = prob1.loc[prob1['Result']=='won']\n",
    "tvar = tempvar['Toss'].value_counts()\n",
    "tvar\n",
    "#this tells us that, at the oval, we More number of teams have won the match if they have won the toss"
   ]
  },
  {
   "cell_type": "raw",
   "id": "24de8527",
   "metadata": {},
   "source": [
    "Similar results can be obtained for each team instead of each Stadium if the query line is replaced with team and opponent data"
   ]
  },
  {
   "cell_type": "markdown",
   "id": "68150361",
   "metadata": {},
   "source": [
    "## Margin vs Bat"
   ]
  },
  {
   "cell_type": "code",
   "execution_count": 53,
   "id": "033189d6",
   "metadata": {},
   "outputs": [
    {
     "data": {
      "text/html": [
       "<div>\n",
       "<style scoped>\n",
       "    .dataframe tbody tr th:only-of-type {\n",
       "        vertical-align: middle;\n",
       "    }\n",
       "\n",
       "    .dataframe tbody tr th {\n",
       "        vertical-align: top;\n",
       "    }\n",
       "\n",
       "    .dataframe thead th {\n",
       "        text-align: right;\n",
       "    }\n",
       "</style>\n",
       "<table border=\"1\" class=\"dataframe\">\n",
       "  <thead>\n",
       "    <tr style=\"text-align: right;\">\n",
       "      <th></th>\n",
       "      <th>Unnamed: 0</th>\n",
       "      <th>Result</th>\n",
       "      <th>Margin</th>\n",
       "      <th>BR</th>\n",
       "      <th>Toss</th>\n",
       "      <th>Bat</th>\n",
       "      <th>Opposition</th>\n",
       "      <th>Ground</th>\n",
       "      <th>Start Date</th>\n",
       "      <th>Match_ID</th>\n",
       "      <th>Country</th>\n",
       "      <th>Country_ID</th>\n",
       "      <th>Score</th>\n",
       "      <th>Overs</th>\n",
       "      <th>RPO</th>\n",
       "      <th>Target</th>\n",
       "      <th>Inns</th>\n",
       "    </tr>\n",
       "  </thead>\n",
       "  <tbody>\n",
       "    <tr>\n",
       "      <th>891</th>\n",
       "      <td>235</td>\n",
       "      <td>won</td>\n",
       "      <td>70 runs</td>\n",
       "      <td>NaN</td>\n",
       "      <td>lost</td>\n",
       "      <td>1st</td>\n",
       "      <td>v Bangladesh</td>\n",
       "      <td>Colombo (SSC)</td>\n",
       "      <td>2017-04-01</td>\n",
       "      <td>ODI # 3858</td>\n",
       "      <td>SriLanka</td>\n",
       "      <td>8</td>\n",
       "      <td>NaN</td>\n",
       "      <td>NaN</td>\n",
       "      <td>NaN</td>\n",
       "      <td>NaN</td>\n",
       "      <td>NaN</td>\n",
       "    </tr>\n",
       "    <tr>\n",
       "      <th>892</th>\n",
       "      <td>1056</td>\n",
       "      <td>lost</td>\n",
       "      <td>70 runs</td>\n",
       "      <td>NaN</td>\n",
       "      <td>won</td>\n",
       "      <td>2nd</td>\n",
       "      <td>v Sri Lanka</td>\n",
       "      <td>Colombo (SSC)</td>\n",
       "      <td>2017-04-01</td>\n",
       "      <td>ODI # 3858</td>\n",
       "      <td>Bangladesh</td>\n",
       "      <td>25</td>\n",
       "      <td>NaN</td>\n",
       "      <td>NaN</td>\n",
       "      <td>NaN</td>\n",
       "      <td>NaN</td>\n",
       "      <td>NaN</td>\n",
       "    </tr>\n",
       "    <tr>\n",
       "      <th>870</th>\n",
       "      <td>1037</td>\n",
       "      <td>lost</td>\n",
       "      <td>NaN</td>\n",
       "      <td>NaN</td>\n",
       "      <td>NaN</td>\n",
       "      <td>NaN</td>\n",
       "      <td>v Sri Lanka</td>\n",
       "      <td>Colombo (SSC)</td>\n",
       "      <td>2017-04-01</td>\n",
       "      <td>ODI # 3858</td>\n",
       "      <td>Bangladesh</td>\n",
       "      <td>25</td>\n",
       "      <td>210</td>\n",
       "      <td>44.3</td>\n",
       "      <td>4.71</td>\n",
       "      <td>281.0</td>\n",
       "      <td>2.0</td>\n",
       "    </tr>\n",
       "    <tr>\n",
       "      <th>869</th>\n",
       "      <td>230</td>\n",
       "      <td>won</td>\n",
       "      <td>NaN</td>\n",
       "      <td>NaN</td>\n",
       "      <td>NaN</td>\n",
       "      <td>NaN</td>\n",
       "      <td>v Bangladesh</td>\n",
       "      <td>Colombo (SSC)</td>\n",
       "      <td>2017-04-01</td>\n",
       "      <td>ODI # 3858</td>\n",
       "      <td>SriLanka</td>\n",
       "      <td>8</td>\n",
       "      <td>280/9</td>\n",
       "      <td>50.0</td>\n",
       "      <td>5.60</td>\n",
       "      <td>NaN</td>\n",
       "      <td>1.0</td>\n",
       "    </tr>\n",
       "    <tr>\n",
       "      <th>148</th>\n",
       "      <td>712</td>\n",
       "      <td>won</td>\n",
       "      <td>9 wickets</td>\n",
       "      <td>115.0</td>\n",
       "      <td>won</td>\n",
       "      <td>2nd</td>\n",
       "      <td>v Zimbabwe</td>\n",
       "      <td>Bulawayo</td>\n",
       "      <td>2013-08-01</td>\n",
       "      <td>ODI # 3402</td>\n",
       "      <td>India</td>\n",
       "      <td>6</td>\n",
       "      <td>NaN</td>\n",
       "      <td>NaN</td>\n",
       "      <td>NaN</td>\n",
       "      <td>NaN</td>\n",
       "      <td>NaN</td>\n",
       "    </tr>\n",
       "  </tbody>\n",
       "</table>\n",
       "</div>"
      ],
      "text/plain": [
       "     Unnamed: 0 Result     Margin     BR  Toss  Bat    Opposition  \\\n",
       "891         235    won    70 runs    NaN  lost  1st  v Bangladesh   \n",
       "892        1056   lost    70 runs    NaN   won  2nd   v Sri Lanka   \n",
       "870        1037   lost        NaN    NaN   NaN  NaN   v Sri Lanka   \n",
       "869         230    won        NaN    NaN   NaN  NaN  v Bangladesh   \n",
       "148         712    won  9 wickets  115.0   won  2nd    v Zimbabwe   \n",
       "\n",
       "            Ground Start Date    Match_ID     Country  Country_ID  Score  \\\n",
       "891  Colombo (SSC) 2017-04-01  ODI # 3858    SriLanka           8    NaN   \n",
       "892  Colombo (SSC) 2017-04-01  ODI # 3858  Bangladesh          25    NaN   \n",
       "870  Colombo (SSC) 2017-04-01  ODI # 3858  Bangladesh          25    210   \n",
       "869  Colombo (SSC) 2017-04-01  ODI # 3858    SriLanka           8  280/9   \n",
       "148       Bulawayo 2013-08-01  ODI # 3402       India           6    NaN   \n",
       "\n",
       "     Overs   RPO  Target  Inns  \n",
       "891    NaN   NaN     NaN   NaN  \n",
       "892    NaN   NaN     NaN   NaN  \n",
       "870   44.3  4.71   281.0   2.0  \n",
       "869   50.0  5.60     NaN   1.0  \n",
       "148    NaN   NaN     NaN   NaN  "
      ]
     },
     "execution_count": 53,
     "metadata": {},
     "output_type": "execute_result"
    }
   ],
   "source": [
    "#We will load the data again, so we don't have to scroll up all the time\n",
    "df.head()"
   ]
  },
  {
   "cell_type": "code",
   "execution_count": 54,
   "id": "ac899f98",
   "metadata": {},
   "outputs": [
    {
     "data": {
      "text/html": [
       "<div>\n",
       "<style scoped>\n",
       "    .dataframe tbody tr th:only-of-type {\n",
       "        vertical-align: middle;\n",
       "    }\n",
       "\n",
       "    .dataframe tbody tr th {\n",
       "        vertical-align: top;\n",
       "    }\n",
       "\n",
       "    .dataframe thead th {\n",
       "        text-align: right;\n",
       "    }\n",
       "</style>\n",
       "<table border=\"1\" class=\"dataframe\">\n",
       "  <thead>\n",
       "    <tr style=\"text-align: right;\">\n",
       "      <th></th>\n",
       "      <th>Bat</th>\n",
       "      <th>Ground</th>\n",
       "      <th>Opposition</th>\n",
       "      <th>Result</th>\n",
       "    </tr>\n",
       "  </thead>\n",
       "  <tbody>\n",
       "    <tr>\n",
       "      <th>891</th>\n",
       "      <td>1st</td>\n",
       "      <td>Colombo (SSC)</td>\n",
       "      <td>v Bangladesh</td>\n",
       "      <td>won</td>\n",
       "    </tr>\n",
       "    <tr>\n",
       "      <th>892</th>\n",
       "      <td>2nd</td>\n",
       "      <td>Colombo (SSC)</td>\n",
       "      <td>v Sri Lanka</td>\n",
       "      <td>lost</td>\n",
       "    </tr>\n",
       "    <tr>\n",
       "      <th>870</th>\n",
       "      <td>NaN</td>\n",
       "      <td>Colombo (SSC)</td>\n",
       "      <td>v Sri Lanka</td>\n",
       "      <td>lost</td>\n",
       "    </tr>\n",
       "    <tr>\n",
       "      <th>869</th>\n",
       "      <td>NaN</td>\n",
       "      <td>Colombo (SSC)</td>\n",
       "      <td>v Bangladesh</td>\n",
       "      <td>won</td>\n",
       "    </tr>\n",
       "    <tr>\n",
       "      <th>148</th>\n",
       "      <td>2nd</td>\n",
       "      <td>Bulawayo</td>\n",
       "      <td>v Zimbabwe</td>\n",
       "      <td>won</td>\n",
       "    </tr>\n",
       "  </tbody>\n",
       "</table>\n",
       "</div>"
      ],
      "text/plain": [
       "     Bat         Ground    Opposition Result\n",
       "891  1st  Colombo (SSC)  v Bangladesh    won\n",
       "892  2nd  Colombo (SSC)   v Sri Lanka   lost\n",
       "870  NaN  Colombo (SSC)   v Sri Lanka   lost\n",
       "869  NaN  Colombo (SSC)  v Bangladesh    won\n",
       "148  2nd       Bulawayo    v Zimbabwe    won"
      ]
     },
     "execution_count": 54,
     "metadata": {},
     "output_type": "execute_result"
    }
   ],
   "source": [
    "#We will again group the data according to Birmingham \n",
    "prob2 = df[['Bat', 'Ground', 'Opposition', 'Result']]\n",
    "prob2.head()"
   ]
  },
  {
   "cell_type": "code",
   "execution_count": 55,
   "id": "1f3cbeb7",
   "metadata": {},
   "outputs": [
    {
     "data": {
      "text/html": [
       "<div>\n",
       "<style scoped>\n",
       "    .dataframe tbody tr th:only-of-type {\n",
       "        vertical-align: middle;\n",
       "    }\n",
       "\n",
       "    .dataframe tbody tr th {\n",
       "        vertical-align: top;\n",
       "    }\n",
       "\n",
       "    .dataframe thead th {\n",
       "        text-align: right;\n",
       "    }\n",
       "</style>\n",
       "<table border=\"1\" class=\"dataframe\">\n",
       "  <thead>\n",
       "    <tr style=\"text-align: right;\">\n",
       "      <th></th>\n",
       "      <th>Bat</th>\n",
       "      <th>Ground</th>\n",
       "      <th>Opposition</th>\n",
       "      <th>Result</th>\n",
       "    </tr>\n",
       "  </thead>\n",
       "  <tbody>\n",
       "    <tr>\n",
       "      <th>90</th>\n",
       "      <td>2nd</td>\n",
       "      <td>Birmingham</td>\n",
       "      <td>v South Africa</td>\n",
       "      <td>lost</td>\n",
       "    </tr>\n",
       "    <tr>\n",
       "      <th>88</th>\n",
       "      <td>NaN</td>\n",
       "      <td>Birmingham</td>\n",
       "      <td>v Pakistan</td>\n",
       "      <td>won</td>\n",
       "    </tr>\n",
       "    <tr>\n",
       "      <th>89</th>\n",
       "      <td>NaN</td>\n",
       "      <td>Birmingham</td>\n",
       "      <td>v South Africa</td>\n",
       "      <td>lost</td>\n",
       "    </tr>\n",
       "    <tr>\n",
       "      <th>89</th>\n",
       "      <td>1st</td>\n",
       "      <td>Birmingham</td>\n",
       "      <td>v Pakistan</td>\n",
       "      <td>won</td>\n",
       "    </tr>\n",
       "    <tr>\n",
       "      <th>935</th>\n",
       "      <td>2nd</td>\n",
       "      <td>Birmingham</td>\n",
       "      <td>v Australia</td>\n",
       "      <td>won</td>\n",
       "    </tr>\n",
       "    <tr>\n",
       "      <th>936</th>\n",
       "      <td>1st</td>\n",
       "      <td>Birmingham</td>\n",
       "      <td>v England</td>\n",
       "      <td>lost</td>\n",
       "    </tr>\n",
       "    <tr>\n",
       "      <th>914</th>\n",
       "      <td>NaN</td>\n",
       "      <td>Birmingham</td>\n",
       "      <td>v England</td>\n",
       "      <td>lost</td>\n",
       "    </tr>\n",
       "    <tr>\n",
       "      <th>913</th>\n",
       "      <td>NaN</td>\n",
       "      <td>Birmingham</td>\n",
       "      <td>v Australia</td>\n",
       "      <td>won</td>\n",
       "    </tr>\n",
       "    <tr>\n",
       "      <th>156</th>\n",
       "      <td>NaN</td>\n",
       "      <td>Birmingham</td>\n",
       "      <td>v Australia</td>\n",
       "      <td>n/r</td>\n",
       "    </tr>\n",
       "    <tr>\n",
       "      <th>157</th>\n",
       "      <td>NaN</td>\n",
       "      <td>Birmingham</td>\n",
       "      <td>v England</td>\n",
       "      <td>n/r</td>\n",
       "    </tr>\n",
       "    <tr>\n",
       "      <th>159</th>\n",
       "      <td>1st</td>\n",
       "      <td>Birmingham</td>\n",
       "      <td>v Australia</td>\n",
       "      <td>n/r</td>\n",
       "    </tr>\n",
       "    <tr>\n",
       "      <th>160</th>\n",
       "      <td>2nd</td>\n",
       "      <td>Birmingham</td>\n",
       "      <td>v England</td>\n",
       "      <td>n/r</td>\n",
       "    </tr>\n",
       "    <tr>\n",
       "      <th>94</th>\n",
       "      <td>1st</td>\n",
       "      <td>Birmingham</td>\n",
       "      <td>v New Zealand</td>\n",
       "      <td>n/r</td>\n",
       "    </tr>\n",
       "    <tr>\n",
       "      <th>92</th>\n",
       "      <td>NaN</td>\n",
       "      <td>Birmingham</td>\n",
       "      <td>v Australia</td>\n",
       "      <td>n/r</td>\n",
       "    </tr>\n",
       "    <tr>\n",
       "      <th>93</th>\n",
       "      <td>2nd</td>\n",
       "      <td>Birmingham</td>\n",
       "      <td>v Australia</td>\n",
       "      <td>n/r</td>\n",
       "    </tr>\n",
       "    <tr>\n",
       "      <th>93</th>\n",
       "      <td>NaN</td>\n",
       "      <td>Birmingham</td>\n",
       "      <td>v New Zealand</td>\n",
       "      <td>n/r</td>\n",
       "    </tr>\n",
       "    <tr>\n",
       "      <th>99</th>\n",
       "      <td>NaN</td>\n",
       "      <td>Birmingham</td>\n",
       "      <td>v Pakistan</td>\n",
       "      <td>won</td>\n",
       "    </tr>\n",
       "    <tr>\n",
       "      <th>100</th>\n",
       "      <td>2nd</td>\n",
       "      <td>Birmingham</td>\n",
       "      <td>v Pakistan</td>\n",
       "      <td>won</td>\n",
       "    </tr>\n",
       "    <tr>\n",
       "      <th>99</th>\n",
       "      <td>1st</td>\n",
       "      <td>Birmingham</td>\n",
       "      <td>v India</td>\n",
       "      <td>lost</td>\n",
       "    </tr>\n",
       "    <tr>\n",
       "      <th>98</th>\n",
       "      <td>NaN</td>\n",
       "      <td>Birmingham</td>\n",
       "      <td>v India</td>\n",
       "      <td>lost</td>\n",
       "    </tr>\n",
       "    <tr>\n",
       "      <th>948</th>\n",
       "      <td>1st</td>\n",
       "      <td>Birmingham</td>\n",
       "      <td>v India</td>\n",
       "      <td>lost</td>\n",
       "    </tr>\n",
       "    <tr>\n",
       "      <th>925</th>\n",
       "      <td>NaN</td>\n",
       "      <td>Birmingham</td>\n",
       "      <td>v Bangladesh</td>\n",
       "      <td>won</td>\n",
       "    </tr>\n",
       "    <tr>\n",
       "      <th>947</th>\n",
       "      <td>2nd</td>\n",
       "      <td>Birmingham</td>\n",
       "      <td>v Bangladesh</td>\n",
       "      <td>won</td>\n",
       "    </tr>\n",
       "    <tr>\n",
       "      <th>926</th>\n",
       "      <td>NaN</td>\n",
       "      <td>Birmingham</td>\n",
       "      <td>v India</td>\n",
       "      <td>lost</td>\n",
       "    </tr>\n",
       "    <tr>\n",
       "      <th>895</th>\n",
       "      <td>NaN</td>\n",
       "      <td>Birmingham</td>\n",
       "      <td>v Australia</td>\n",
       "      <td>n/r</td>\n",
       "    </tr>\n",
       "    <tr>\n",
       "      <th>917</th>\n",
       "      <td>1st</td>\n",
       "      <td>Birmingham</td>\n",
       "      <td>v Australia</td>\n",
       "      <td>n/r</td>\n",
       "    </tr>\n",
       "    <tr>\n",
       "      <th>918</th>\n",
       "      <td>2nd</td>\n",
       "      <td>Birmingham</td>\n",
       "      <td>v New Zealand</td>\n",
       "      <td>n/r</td>\n",
       "    </tr>\n",
       "    <tr>\n",
       "      <th>896</th>\n",
       "      <td>NaN</td>\n",
       "      <td>Birmingham</td>\n",
       "      <td>v New Zealand</td>\n",
       "      <td>n/r</td>\n",
       "    </tr>\n",
       "    <tr>\n",
       "      <th>346</th>\n",
       "      <td>NaN</td>\n",
       "      <td>Birmingham</td>\n",
       "      <td>v India</td>\n",
       "      <td>lost</td>\n",
       "    </tr>\n",
       "    <tr>\n",
       "      <th>345</th>\n",
       "      <td>NaN</td>\n",
       "      <td>Birmingham</td>\n",
       "      <td>v England</td>\n",
       "      <td>won</td>\n",
       "    </tr>\n",
       "    <tr>\n",
       "      <th>356</th>\n",
       "      <td>1st</td>\n",
       "      <td>Birmingham</td>\n",
       "      <td>v India</td>\n",
       "      <td>lost</td>\n",
       "    </tr>\n",
       "    <tr>\n",
       "      <th>355</th>\n",
       "      <td>2nd</td>\n",
       "      <td>Birmingham</td>\n",
       "      <td>v England</td>\n",
       "      <td>won</td>\n",
       "    </tr>\n",
       "    <tr>\n",
       "      <th>109</th>\n",
       "      <td>1st</td>\n",
       "      <td>Birmingham</td>\n",
       "      <td>v England</td>\n",
       "      <td>won</td>\n",
       "    </tr>\n",
       "    <tr>\n",
       "      <th>109</th>\n",
       "      <td>NaN</td>\n",
       "      <td>Birmingham</td>\n",
       "      <td>v India</td>\n",
       "      <td>lost</td>\n",
       "    </tr>\n",
       "    <tr>\n",
       "      <th>110</th>\n",
       "      <td>2nd</td>\n",
       "      <td>Birmingham</td>\n",
       "      <td>v India</td>\n",
       "      <td>lost</td>\n",
       "    </tr>\n",
       "    <tr>\n",
       "      <th>108</th>\n",
       "      <td>NaN</td>\n",
       "      <td>Birmingham</td>\n",
       "      <td>v England</td>\n",
       "      <td>won</td>\n",
       "    </tr>\n",
       "    <tr>\n",
       "      <th>727</th>\n",
       "      <td>1st</td>\n",
       "      <td>Birmingham</td>\n",
       "      <td>v England</td>\n",
       "      <td>lost</td>\n",
       "    </tr>\n",
       "    <tr>\n",
       "      <th>728</th>\n",
       "      <td>2nd</td>\n",
       "      <td>Birmingham</td>\n",
       "      <td>v Sri Lanka</td>\n",
       "      <td>won</td>\n",
       "    </tr>\n",
       "    <tr>\n",
       "      <th>710</th>\n",
       "      <td>NaN</td>\n",
       "      <td>Birmingham</td>\n",
       "      <td>v Sri Lanka</td>\n",
       "      <td>won</td>\n",
       "    </tr>\n",
       "    <tr>\n",
       "      <th>709</th>\n",
       "      <td>NaN</td>\n",
       "      <td>Birmingham</td>\n",
       "      <td>v England</td>\n",
       "      <td>lost</td>\n",
       "    </tr>\n",
       "    <tr>\n",
       "      <th>310</th>\n",
       "      <td>1st</td>\n",
       "      <td>Birmingham</td>\n",
       "      <td>v Sri Lanka</td>\n",
       "      <td>lost</td>\n",
       "    </tr>\n",
       "    <tr>\n",
       "      <th>302</th>\n",
       "      <td>NaN</td>\n",
       "      <td>Birmingham</td>\n",
       "      <td>v Sri Lanka</td>\n",
       "      <td>lost</td>\n",
       "    </tr>\n",
       "    <tr>\n",
       "      <th>301</th>\n",
       "      <td>NaN</td>\n",
       "      <td>Birmingham</td>\n",
       "      <td>v England</td>\n",
       "      <td>won</td>\n",
       "    </tr>\n",
       "    <tr>\n",
       "      <th>309</th>\n",
       "      <td>2nd</td>\n",
       "      <td>Birmingham</td>\n",
       "      <td>v England</td>\n",
       "      <td>won</td>\n",
       "    </tr>\n",
       "    <tr>\n",
       "      <th>899</th>\n",
       "      <td>NaN</td>\n",
       "      <td>Birmingham</td>\n",
       "      <td>v India</td>\n",
       "      <td>lost</td>\n",
       "    </tr>\n",
       "    <tr>\n",
       "      <th>922</th>\n",
       "      <td>1st</td>\n",
       "      <td>Birmingham</td>\n",
       "      <td>v Pakistan</td>\n",
       "      <td>won</td>\n",
       "    </tr>\n",
       "    <tr>\n",
       "      <th>921</th>\n",
       "      <td>2nd</td>\n",
       "      <td>Birmingham</td>\n",
       "      <td>v India</td>\n",
       "      <td>lost</td>\n",
       "    </tr>\n",
       "    <tr>\n",
       "      <th>900</th>\n",
       "      <td>NaN</td>\n",
       "      <td>Birmingham</td>\n",
       "      <td>v Pakistan</td>\n",
       "      <td>won</td>\n",
       "    </tr>\n",
       "    <tr>\n",
       "      <th>928</th>\n",
       "      <td>2nd</td>\n",
       "      <td>Birmingham</td>\n",
       "      <td>v South Africa</td>\n",
       "      <td>won</td>\n",
       "    </tr>\n",
       "    <tr>\n",
       "      <th>906</th>\n",
       "      <td>NaN</td>\n",
       "      <td>Birmingham</td>\n",
       "      <td>v South Africa</td>\n",
       "      <td>won</td>\n",
       "    </tr>\n",
       "    <tr>\n",
       "      <th>927</th>\n",
       "      <td>1st</td>\n",
       "      <td>Birmingham</td>\n",
       "      <td>v Pakistan</td>\n",
       "      <td>lost</td>\n",
       "    </tr>\n",
       "    <tr>\n",
       "      <th>905</th>\n",
       "      <td>NaN</td>\n",
       "      <td>Birmingham</td>\n",
       "      <td>v Pakistan</td>\n",
       "      <td>lost</td>\n",
       "    </tr>\n",
       "    <tr>\n",
       "      <th>84</th>\n",
       "      <td>NaN</td>\n",
       "      <td>Birmingham</td>\n",
       "      <td>v Australia</td>\n",
       "      <td>won</td>\n",
       "    </tr>\n",
       "    <tr>\n",
       "      <th>85</th>\n",
       "      <td>NaN</td>\n",
       "      <td>Birmingham</td>\n",
       "      <td>v England</td>\n",
       "      <td>lost</td>\n",
       "    </tr>\n",
       "    <tr>\n",
       "      <th>85</th>\n",
       "      <td>1st</td>\n",
       "      <td>Birmingham</td>\n",
       "      <td>v Australia</td>\n",
       "      <td>won</td>\n",
       "    </tr>\n",
       "    <tr>\n",
       "      <th>86</th>\n",
       "      <td>2nd</td>\n",
       "      <td>Birmingham</td>\n",
       "      <td>v England</td>\n",
       "      <td>lost</td>\n",
       "    </tr>\n",
       "    <tr>\n",
       "      <th>551</th>\n",
       "      <td>NaN</td>\n",
       "      <td>Birmingham</td>\n",
       "      <td>v England</td>\n",
       "      <td>lost</td>\n",
       "    </tr>\n",
       "    <tr>\n",
       "      <th>567</th>\n",
       "      <td>2nd</td>\n",
       "      <td>Birmingham</td>\n",
       "      <td>v England</td>\n",
       "      <td>lost</td>\n",
       "    </tr>\n",
       "    <tr>\n",
       "      <th>552</th>\n",
       "      <td>NaN</td>\n",
       "      <td>Birmingham</td>\n",
       "      <td>v New Zealand</td>\n",
       "      <td>won</td>\n",
       "    </tr>\n",
       "    <tr>\n",
       "      <th>568</th>\n",
       "      <td>1st</td>\n",
       "      <td>Birmingham</td>\n",
       "      <td>v New Zealand</td>\n",
       "      <td>won</td>\n",
       "    </tr>\n",
       "  </tbody>\n",
       "</table>\n",
       "</div>"
      ],
      "text/plain": [
       "     Bat      Ground      Opposition Result\n",
       "90   2nd  Birmingham  v South Africa   lost\n",
       "88   NaN  Birmingham      v Pakistan    won\n",
       "89   NaN  Birmingham  v South Africa   lost\n",
       "89   1st  Birmingham      v Pakistan    won\n",
       "935  2nd  Birmingham     v Australia    won\n",
       "936  1st  Birmingham       v England   lost\n",
       "914  NaN  Birmingham       v England   lost\n",
       "913  NaN  Birmingham     v Australia    won\n",
       "156  NaN  Birmingham     v Australia    n/r\n",
       "157  NaN  Birmingham       v England    n/r\n",
       "159  1st  Birmingham     v Australia    n/r\n",
       "160  2nd  Birmingham       v England    n/r\n",
       "94   1st  Birmingham   v New Zealand    n/r\n",
       "92   NaN  Birmingham     v Australia    n/r\n",
       "93   2nd  Birmingham     v Australia    n/r\n",
       "93   NaN  Birmingham   v New Zealand    n/r\n",
       "99   NaN  Birmingham      v Pakistan    won\n",
       "100  2nd  Birmingham      v Pakistan    won\n",
       "99   1st  Birmingham         v India   lost\n",
       "98   NaN  Birmingham         v India   lost\n",
       "948  1st  Birmingham         v India   lost\n",
       "925  NaN  Birmingham    v Bangladesh    won\n",
       "947  2nd  Birmingham    v Bangladesh    won\n",
       "926  NaN  Birmingham         v India   lost\n",
       "895  NaN  Birmingham     v Australia    n/r\n",
       "917  1st  Birmingham     v Australia    n/r\n",
       "918  2nd  Birmingham   v New Zealand    n/r\n",
       "896  NaN  Birmingham   v New Zealand    n/r\n",
       "346  NaN  Birmingham         v India   lost\n",
       "345  NaN  Birmingham       v England    won\n",
       "356  1st  Birmingham         v India   lost\n",
       "355  2nd  Birmingham       v England    won\n",
       "109  1st  Birmingham       v England    won\n",
       "109  NaN  Birmingham         v India   lost\n",
       "110  2nd  Birmingham         v India   lost\n",
       "108  NaN  Birmingham       v England    won\n",
       "727  1st  Birmingham       v England   lost\n",
       "728  2nd  Birmingham     v Sri Lanka    won\n",
       "710  NaN  Birmingham     v Sri Lanka    won\n",
       "709  NaN  Birmingham       v England   lost\n",
       "310  1st  Birmingham     v Sri Lanka   lost\n",
       "302  NaN  Birmingham     v Sri Lanka   lost\n",
       "301  NaN  Birmingham       v England    won\n",
       "309  2nd  Birmingham       v England    won\n",
       "899  NaN  Birmingham         v India   lost\n",
       "922  1st  Birmingham      v Pakistan    won\n",
       "921  2nd  Birmingham         v India   lost\n",
       "900  NaN  Birmingham      v Pakistan    won\n",
       "928  2nd  Birmingham  v South Africa    won\n",
       "906  NaN  Birmingham  v South Africa    won\n",
       "927  1st  Birmingham      v Pakistan   lost\n",
       "905  NaN  Birmingham      v Pakistan   lost\n",
       "84   NaN  Birmingham     v Australia    won\n",
       "85   NaN  Birmingham       v England   lost\n",
       "85   1st  Birmingham     v Australia    won\n",
       "86   2nd  Birmingham       v England   lost\n",
       "551  NaN  Birmingham       v England   lost\n",
       "567  2nd  Birmingham       v England   lost\n",
       "552  NaN  Birmingham   v New Zealand    won\n",
       "568  1st  Birmingham   v New Zealand    won"
      ]
     },
     "execution_count": 55,
     "metadata": {},
     "output_type": "execute_result"
    }
   ],
   "source": [
    "#Dropping Null Values\n",
    "prob2.dropna()\n",
    "#Grouping According to one ground\n",
    "prob2 = prob2.query('Ground == \"Birmingham\"')\n",
    "prob2"
   ]
  },
  {
   "cell_type": "code",
   "execution_count": 56,
   "id": "a8467b8d",
   "metadata": {},
   "outputs": [
    {
     "data": {
      "text/plain": [
       "lost    7\n",
       "won     5\n",
       "n/r     3\n",
       "Name: Result, dtype: int64"
      ]
     },
     "execution_count": 56,
     "metadata": {},
     "output_type": "execute_result"
    }
   ],
   "source": [
    "#Grouping according to whoever batted first\n",
    "prob2_b1 = prob2.loc[prob2['Bat']=='1st']\n",
    "prob2_b1['Result'].value_counts()"
   ]
  },
  {
   "cell_type": "code",
   "execution_count": 57,
   "id": "ea502242",
   "metadata": {},
   "outputs": [
    {
     "data": {
      "text/plain": [
       "<matplotlib.legend.Legend at 0x20324867d90>"
      ]
     },
     "execution_count": 57,
     "metadata": {},
     "output_type": "execute_result"
    },
    {
     "data": {
      "image/png": "[encoded data removed]",
      "text/plain": [
       "<Figure size 432x288 with 1 Axes>"
      ]
     },
     "metadata": {},
     "output_type": "display_data"
    }
   ],
   "source": [
    "#plotting the graph\n",
    "fig = figsize =(30, 20)\n",
    "label = ['Lost', 'Win', 'No result']\n",
    "colors = ['red', 'green', 'silver']\n",
    "plt.pie(prob2_b1['Result'].value_counts(), autopct='%1.2f%%', labels=label, textprops = dict(color =\"black\"), colors=colors)\n",
    "plt.title('Results after batting first in Brimingham ground', size = 17, weight =\"bold\", pad=20)\n",
    "plt.legend(title =\"Result\", loc =\"center left\", bbox_to_anchor =(1.5, 0, 0.5, 0.5)) "
   ]
  },
  {
   "cell_type": "code",
   "execution_count": 58,
   "id": "6c2189b7",
   "metadata": {},
   "outputs": [
    {
     "data": {
      "text/plain": [
       "won     7\n",
       "lost    5\n",
       "n/r     3\n",
       "Name: Result, dtype: int64"
      ]
     },
     "execution_count": 58,
     "metadata": {},
     "output_type": "execute_result"
    }
   ],
   "source": [
    "#Grouping the data according to second batting\n",
    "prob2_b2 = prob2.loc[prob2['Bat']=='2nd']\n",
    "#Counting how many of these second batters have won and lost\n",
    "prob2_b2['Result'].value_counts()"
   ]
  },
  {
   "cell_type": "code",
   "execution_count": 59,
   "id": "e67dce9d",
   "metadata": {},
   "outputs": [
    {
     "data": {
      "text/plain": [
       "<matplotlib.legend.Legend at 0x20324867ca0>"
      ]
     },
     "execution_count": 59,
     "metadata": {},
     "output_type": "execute_result"
    },
    {
     "data": {
      "image/png": "[encoded data removed]",
      "text/plain": [
       "<Figure size 432x288 with 1 Axes>"
      ]
     },
     "metadata": {},
     "output_type": "display_data"
    }
   ],
   "source": [
    "fig = figsize =(30, 20)\n",
    "label = ['Won', 'Lost', 'No result']\n",
    "colors = ['green', 'red', 'silver']\n",
    "plt.pie(prob2_b1['Result'].value_counts(), autopct='%1.2f%%', labels=label, textprops = dict(color =\"black\"), colors=colors)\n",
    "plt.title('Results after batting second in Brimingham ground', size = 17, weight =\"bold\", pad=20)\n",
    "plt.legend(title =\"Result\", loc =\"center left\", bbox_to_anchor =(1.5, 0, 0.5, 0.5))"
   ]
  },
  {
   "cell_type": "raw",
   "id": "8d235fbd",
   "metadata": {},
   "source": [
    "Thus, we can predict that teams which have batted first have higher chances of winning than teams which have batted second."
   ]
  },
  {
   "cell_type": "markdown",
   "id": "633c7f3c",
   "metadata": {},
   "source": [
    "## Target, Result, Ground"
   ]
  },
  {
   "cell_type": "code",
   "execution_count": 60,
   "id": "9bf7ff19",
   "metadata": {},
   "outputs": [
    {
     "data": {
      "text/html": [
       "<div>\n",
       "<style scoped>\n",
       "    .dataframe tbody tr th:only-of-type {\n",
       "        vertical-align: middle;\n",
       "    }\n",
       "\n",
       "    .dataframe tbody tr th {\n",
       "        vertical-align: top;\n",
       "    }\n",
       "\n",
       "    .dataframe thead th {\n",
       "        text-align: right;\n",
       "    }\n",
       "</style>\n",
       "<table border=\"1\" class=\"dataframe\">\n",
       "  <thead>\n",
       "    <tr style=\"text-align: right;\">\n",
       "      <th></th>\n",
       "      <th>Target</th>\n",
       "      <th>Result</th>\n",
       "      <th>Ground</th>\n",
       "    </tr>\n",
       "  </thead>\n",
       "  <tbody>\n",
       "    <tr>\n",
       "      <th>870</th>\n",
       "      <td>281.0</td>\n",
       "      <td>lost</td>\n",
       "      <td>Colombo (SSC)</td>\n",
       "    </tr>\n",
       "    <tr>\n",
       "      <th>147</th>\n",
       "      <td>145.0</td>\n",
       "      <td>won</td>\n",
       "      <td>Bulawayo</td>\n",
       "    </tr>\n",
       "    <tr>\n",
       "      <th>1113</th>\n",
       "      <td>245.0</td>\n",
       "      <td>won</td>\n",
       "      <td>Dambulla</td>\n",
       "    </tr>\n",
       "    <tr>\n",
       "      <th>400</th>\n",
       "      <td>129.0</td>\n",
       "      <td>won</td>\n",
       "      <td>Dhaka</td>\n",
       "    </tr>\n",
       "    <tr>\n",
       "      <th>31</th>\n",
       "      <td>71.0</td>\n",
       "      <td>won</td>\n",
       "      <td>Perth</td>\n",
       "    </tr>\n",
       "    <tr>\n",
       "      <th>...</th>\n",
       "      <td>...</td>\n",
       "      <td>...</td>\n",
       "      <td>...</td>\n",
       "    </tr>\n",
       "    <tr>\n",
       "      <th>375</th>\n",
       "      <td>243.0</td>\n",
       "      <td>won</td>\n",
       "      <td>Hyderabad (Deccan)</td>\n",
       "    </tr>\n",
       "    <tr>\n",
       "      <th>1179</th>\n",
       "      <td>210.0</td>\n",
       "      <td>won</td>\n",
       "      <td>Abu Dhabi</td>\n",
       "    </tr>\n",
       "    <tr>\n",
       "      <th>1177</th>\n",
       "      <td>232.0</td>\n",
       "      <td>lost</td>\n",
       "      <td>Adelaide</td>\n",
       "    </tr>\n",
       "    <tr>\n",
       "      <th>770</th>\n",
       "      <td>168.0</td>\n",
       "      <td>won</td>\n",
       "      <td>Port Elizabeth</td>\n",
       "    </tr>\n",
       "    <tr>\n",
       "      <th>772</th>\n",
       "      <td>239.0</td>\n",
       "      <td>lost</td>\n",
       "      <td>Dhaka</td>\n",
       "    </tr>\n",
       "  </tbody>\n",
       "</table>\n",
       "<p>620 rows × 3 columns</p>\n",
       "</div>"
      ],
      "text/plain": [
       "      Target Result              Ground\n",
       "870    281.0   lost       Colombo (SSC)\n",
       "147    145.0    won            Bulawayo\n",
       "1113   245.0    won            Dambulla\n",
       "400    129.0    won               Dhaka\n",
       "31      71.0    won               Perth\n",
       "...      ...    ...                 ...\n",
       "375    243.0    won  Hyderabad (Deccan)\n",
       "1179   210.0    won           Abu Dhabi\n",
       "1177   232.0   lost            Adelaide\n",
       "770    168.0    won      Port Elizabeth\n",
       "772    239.0   lost               Dhaka\n",
       "\n",
       "[620 rows x 3 columns]"
      ]
     },
     "execution_count": 60,
     "metadata": {},
     "output_type": "execute_result"
    }
   ],
   "source": [
    "#Grouping the data according to reqd columns\n",
    "prob3 = df[['Target', 'Result', 'Ground']]\n",
    "#Dropping null values\n",
    "prob3 = prob3.dropna()\n",
    "prob3"
   ]
  },
  {
   "cell_type": "code",
   "execution_count": 61,
   "id": "2e5b9fdf",
   "metadata": {},
   "outputs": [
    {
     "data": {
      "text/html": [
       "<div>\n",
       "<style scoped>\n",
       "    .dataframe tbody tr th:only-of-type {\n",
       "        vertical-align: middle;\n",
       "    }\n",
       "\n",
       "    .dataframe tbody tr th {\n",
       "        vertical-align: top;\n",
       "    }\n",
       "\n",
       "    .dataframe thead th {\n",
       "        text-align: right;\n",
       "    }\n",
       "</style>\n",
       "<table border=\"1\" class=\"dataframe\">\n",
       "  <thead>\n",
       "    <tr style=\"text-align: right;\">\n",
       "      <th></th>\n",
       "      <th>Target</th>\n",
       "      <th>Result</th>\n",
       "      <th>Ground</th>\n",
       "    </tr>\n",
       "  </thead>\n",
       "  <tbody>\n",
       "    <tr>\n",
       "      <th>893</th>\n",
       "      <td>306.0</td>\n",
       "      <td>won</td>\n",
       "      <td>The Oval</td>\n",
       "    </tr>\n",
       "    <tr>\n",
       "      <th>91</th>\n",
       "      <td>234.0</td>\n",
       "      <td>won</td>\n",
       "      <td>The Oval</td>\n",
       "    </tr>\n",
       "    <tr>\n",
       "      <th>916</th>\n",
       "      <td>192.0</td>\n",
       "      <td>won</td>\n",
       "      <td>The Oval</td>\n",
       "    </tr>\n",
       "    <tr>\n",
       "      <th>94</th>\n",
       "      <td>294.0</td>\n",
       "      <td>won</td>\n",
       "      <td>The Oval</td>\n",
       "    </tr>\n",
       "    <tr>\n",
       "      <th>1083</th>\n",
       "      <td>215.0</td>\n",
       "      <td>won</td>\n",
       "      <td>The Oval</td>\n",
       "    </tr>\n",
       "    <tr>\n",
       "      <th>105</th>\n",
       "      <td>176.0</td>\n",
       "      <td>won</td>\n",
       "      <td>The Oval</td>\n",
       "    </tr>\n",
       "    <tr>\n",
       "      <th>967</th>\n",
       "      <td>253.0</td>\n",
       "      <td>won</td>\n",
       "      <td>The Oval</td>\n",
       "    </tr>\n",
       "    <tr>\n",
       "      <th>718</th>\n",
       "      <td>308.0</td>\n",
       "      <td>won</td>\n",
       "      <td>The Oval</td>\n",
       "    </tr>\n",
       "    <tr>\n",
       "      <th>82</th>\n",
       "      <td>171.0</td>\n",
       "      <td>won</td>\n",
       "      <td>The Oval</td>\n",
       "    </tr>\n",
       "    <tr>\n",
       "      <th>907</th>\n",
       "      <td>322.0</td>\n",
       "      <td>won</td>\n",
       "      <td>The Oval</td>\n",
       "    </tr>\n",
       "  </tbody>\n",
       "</table>\n",
       "</div>"
      ],
      "text/plain": [
       "      Target Result    Ground\n",
       "893    306.0    won  The Oval\n",
       "91     234.0    won  The Oval\n",
       "916    192.0    won  The Oval\n",
       "94     294.0    won  The Oval\n",
       "1083   215.0    won  The Oval\n",
       "105    176.0    won  The Oval\n",
       "967    253.0    won  The Oval\n",
       "718    308.0    won  The Oval\n",
       "82     171.0    won  The Oval\n",
       "907    322.0    won  The Oval"
      ]
     },
     "execution_count": 61,
     "metadata": {},
     "output_type": "execute_result"
    }
   ],
   "source": [
    "#Grouping according to Matches played at Oval\n",
    "prob3g = prob3.query('Ground == \"The Oval\"')\n",
    "#Grouping according to winners at Oval\n",
    "prob3g = prob3g.loc[prob3g['Result']=='won']\n",
    "#Mean score of the wiining team\n",
    "mean_score = prob3g['Target'].mean()\n",
    "prob3g"
   ]
  },
  {
   "cell_type": "code",
   "execution_count": 62,
   "id": "c8417c16",
   "metadata": {},
   "outputs": [
    {
     "data": {
      "text/plain": [
       "247.1"
      ]
     },
     "execution_count": 62,
     "metadata": {},
     "output_type": "execute_result"
    }
   ],
   "source": [
    "mean_score"
   ]
  },
  {
   "cell_type": "code",
   "execution_count": 63,
   "id": "f4d423e3",
   "metadata": {},
   "outputs": [
    {
     "name": "stdout",
     "output_type": "stream",
     "text": [
      "The Average Score for this ground is: \n",
      "253.44032258064516\n",
      "The Highest Score for this ground is: \n",
      "322.0\n",
      "The Lowest Score for this ground is: \n",
      "68.0\n"
     ]
    }
   ],
   "source": [
    "print(\"The Average Score for this ground is: \")\n",
    "print(prob3['Target'].mean())\n",
    "print(\"The Highest Score for this ground is: \")\n",
    "print(prob3g['Target'].max())\n",
    "print(\"The Lowest Score for this ground is: \")\n",
    "print(prob3['Target'].min())"
   ]
  },
  {
   "cell_type": "markdown",
   "id": "fb0945a1",
   "metadata": {},
   "source": [
    "## Country Analysis"
   ]
  },
  {
   "cell_type": "code",
   "execution_count": 64,
   "id": "2429b455",
   "metadata": {},
   "outputs": [
    {
     "data": {
      "text/html": [
       "<div>\n",
       "<style scoped>\n",
       "    .dataframe tbody tr th:only-of-type {\n",
       "        vertical-align: middle;\n",
       "    }\n",
       "\n",
       "    .dataframe tbody tr th {\n",
       "        vertical-align: top;\n",
       "    }\n",
       "\n",
       "    .dataframe thead th {\n",
       "        text-align: right;\n",
       "    }\n",
       "</style>\n",
       "<table border=\"1\" class=\"dataframe\">\n",
       "  <thead>\n",
       "    <tr style=\"text-align: right;\">\n",
       "      <th></th>\n",
       "      <th>Unnamed: 0</th>\n",
       "      <th>Result</th>\n",
       "      <th>Margin</th>\n",
       "      <th>BR</th>\n",
       "      <th>Toss</th>\n",
       "      <th>Bat</th>\n",
       "      <th>Opposition</th>\n",
       "      <th>Ground</th>\n",
       "      <th>Start Date</th>\n",
       "      <th>Match_ID</th>\n",
       "      <th>Country</th>\n",
       "      <th>Country_ID</th>\n",
       "      <th>Score</th>\n",
       "      <th>Overs</th>\n",
       "      <th>RPO</th>\n",
       "      <th>Target</th>\n",
       "      <th>Inns</th>\n",
       "    </tr>\n",
       "  </thead>\n",
       "  <tbody>\n",
       "    <tr>\n",
       "      <th>6</th>\n",
       "      <td>694</td>\n",
       "      <td>lost</td>\n",
       "      <td>9 runs</td>\n",
       "      <td>NaN</td>\n",
       "      <td>lost</td>\n",
       "      <td>2nd</td>\n",
       "      <td>v England</td>\n",
       "      <td>Rajkot</td>\n",
       "      <td>2013-01-11</td>\n",
       "      <td>ODI # 3318</td>\n",
       "      <td>India</td>\n",
       "      <td>6</td>\n",
       "      <td>NaN</td>\n",
       "      <td>NaN</td>\n",
       "      <td>NaN</td>\n",
       "      <td>NaN</td>\n",
       "      <td>NaN</td>\n",
       "    </tr>\n",
       "    <tr>\n",
       "      <th>6</th>\n",
       "      <td>682</td>\n",
       "      <td>lost</td>\n",
       "      <td>NaN</td>\n",
       "      <td>NaN</td>\n",
       "      <td>NaN</td>\n",
       "      <td>NaN</td>\n",
       "      <td>v England</td>\n",
       "      <td>Rajkot</td>\n",
       "      <td>2013-01-11</td>\n",
       "      <td>ODI # 3318</td>\n",
       "      <td>India</td>\n",
       "      <td>6</td>\n",
       "      <td>316/9</td>\n",
       "      <td>50.0</td>\n",
       "      <td>6.32</td>\n",
       "      <td>326.0</td>\n",
       "      <td>2.0</td>\n",
       "    </tr>\n",
       "    <tr>\n",
       "      <th>1116</th>\n",
       "      <td>825</td>\n",
       "      <td>won</td>\n",
       "      <td>8 wickets</td>\n",
       "      <td>59.0</td>\n",
       "      <td>won</td>\n",
       "      <td>2nd</td>\n",
       "      <td>v England</td>\n",
       "      <td>Nottingham</td>\n",
       "      <td>2018-07-12</td>\n",
       "      <td>ODI # 4014</td>\n",
       "      <td>India</td>\n",
       "      <td>6</td>\n",
       "      <td>NaN</td>\n",
       "      <td>NaN</td>\n",
       "      <td>NaN</td>\n",
       "      <td>NaN</td>\n",
       "      <td>NaN</td>\n",
       "    </tr>\n",
       "    <tr>\n",
       "      <th>1093</th>\n",
       "      <td>809</td>\n",
       "      <td>won</td>\n",
       "      <td>NaN</td>\n",
       "      <td>NaN</td>\n",
       "      <td>NaN</td>\n",
       "      <td>NaN</td>\n",
       "      <td>v England</td>\n",
       "      <td>Nottingham</td>\n",
       "      <td>2018-07-12</td>\n",
       "      <td>ODI # 4014</td>\n",
       "      <td>India</td>\n",
       "      <td>6</td>\n",
       "      <td>269/2</td>\n",
       "      <td>40.1</td>\n",
       "      <td>6.69</td>\n",
       "      <td>269.0</td>\n",
       "      <td>2.0</td>\n",
       "    </tr>\n",
       "    <tr>\n",
       "      <th>1096</th>\n",
       "      <td>810</td>\n",
       "      <td>lost</td>\n",
       "      <td>NaN</td>\n",
       "      <td>NaN</td>\n",
       "      <td>NaN</td>\n",
       "      <td>NaN</td>\n",
       "      <td>v England</td>\n",
       "      <td>Lord's</td>\n",
       "      <td>2018-07-14</td>\n",
       "      <td>ODI # 4016</td>\n",
       "      <td>India</td>\n",
       "      <td>6</td>\n",
       "      <td>236</td>\n",
       "      <td>50.0</td>\n",
       "      <td>4.72</td>\n",
       "      <td>323.0</td>\n",
       "      <td>2.0</td>\n",
       "    </tr>\n",
       "  </tbody>\n",
       "</table>\n",
       "</div>"
      ],
      "text/plain": [
       "      Unnamed: 0 Result     Margin    BR  Toss  Bat Opposition      Ground  \\\n",
       "6            694   lost     9 runs   NaN  lost  2nd  v England      Rajkot   \n",
       "6            682   lost        NaN   NaN   NaN  NaN  v England      Rajkot   \n",
       "1116         825    won  8 wickets  59.0   won  2nd  v England  Nottingham   \n",
       "1093         809    won        NaN   NaN   NaN  NaN  v England  Nottingham   \n",
       "1096         810   lost        NaN   NaN   NaN  NaN  v England      Lord's   \n",
       "\n",
       "     Start Date    Match_ID Country  Country_ID  Score  Overs   RPO  Target  \\\n",
       "6    2013-01-11  ODI # 3318   India           6    NaN    NaN   NaN     NaN   \n",
       "6    2013-01-11  ODI # 3318   India           6  316/9   50.0  6.32   326.0   \n",
       "1116 2018-07-12  ODI # 4014   India           6    NaN    NaN   NaN     NaN   \n",
       "1093 2018-07-12  ODI # 4014   India           6  269/2   40.1  6.69   269.0   \n",
       "1096 2018-07-14  ODI # 4016   India           6    236   50.0  4.72   323.0   \n",
       "\n",
       "      Inns  \n",
       "6      NaN  \n",
       "6      2.0  \n",
       "1116   NaN  \n",
       "1093   2.0  \n",
       "1096   2.0  "
      ]
     },
     "execution_count": 64,
     "metadata": {},
     "output_type": "execute_result"
    }
   ],
   "source": [
    "#Consider a country say India and Opposition as England\n",
    "prob5 = df.query('Country == \"India\"')\n",
    "prob5 = prob5.query('Opposition == \"v England\"')\n",
    "prob5.head()"
   ]
  },
  {
   "cell_type": "code",
   "execution_count": 65,
   "id": "17aa5da1",
   "metadata": {},
   "outputs": [
    {
     "data": {
      "text/plain": [
       "<matplotlib.legend.Legend at 0x203244ef2b0>"
      ]
     },
     "execution_count": 65,
     "metadata": {},
     "output_type": "execute_result"
    },
    {
     "data": {
      "image/png": "[encoded data removed]",
      "text/plain": [
       "<Figure size 432x288 with 1 Axes>"
      ]
     },
     "metadata": {},
     "output_type": "display_data"
    }
   ],
   "source": [
    "fig = figsize =(30, 20)\n",
    "label = ['Lost', 'Won', 'Abandoned']\n",
    "colors = ['red', 'Green', 'Silver']\n",
    "plt.pie(prob5['Result'].value_counts(), labels=label, colors=colors,  autopct='%1.2f%%')\n",
    "plt.title('Result of Matches against England for India', size = 17, weight =\"bold\", pad=20)\n",
    "plt.legend(title =\"Result\", loc =\"center left\", bbox_to_anchor =(1.5, 0, 0.5, 0.5))"
   ]
  },
  {
   "cell_type": "code",
   "execution_count": 69,
   "id": "2dd01109",
   "metadata": {},
   "outputs": [],
   "source": []
  },
  {
   "cell_type": "code",
   "execution_count": 84,
   "id": "b8e9a6d7",
   "metadata": {},
   "outputs": [],
   "source": [
    "df4 = pd.read_csv('C:/Users/HP/Desktop/InternSavy/Cricket Player Performaces prediction using ML/Batsman_Data.csv') \n",
    "df5 = pd.read_csv('C:/Users/HP/Desktop/InternSavy/Cricket Player Performaces prediction using ML/WC_players.csv') \n",
    "df6 = pd.read_csv('C:/Users/HP/Desktop/InternSavy/Cricket Player Performaces prediction using ML/Bowler_data.csv') "
   ]
  },
  {
   "cell_type": "code",
   "execution_count": 85,
   "id": "3b77c679",
   "metadata": {},
   "outputs": [
    {
     "name": "stdout",
     "output_type": "stream",
     "text": [
      "<class 'pandas.core.frame.DataFrame'>\n",
      "RangeIndex: 11149 entries, 0 to 11148\n",
      "Data columns (total 13 columns):\n",
      " #   Column      Non-Null Count  Dtype \n",
      "---  ------      --------------  ----- \n",
      " 0   Unnamed: 0  11149 non-null  int64 \n",
      " 1   Bat1        11149 non-null  object\n",
      " 2   Runs        11149 non-null  object\n",
      " 3   BF          11149 non-null  object\n",
      " 4   SR          11149 non-null  object\n",
      " 5   4s          11149 non-null  object\n",
      " 6   6s          11149 non-null  object\n",
      " 7   Opposition  11149 non-null  object\n",
      " 8   Ground      11149 non-null  object\n",
      " 9   Start Date  11149 non-null  object\n",
      " 10  Match_ID    11149 non-null  object\n",
      " 11  Batsman     11149 non-null  object\n",
      " 12  Player_ID   11149 non-null  int64 \n",
      "dtypes: int64(2), object(11)\n",
      "memory usage: 1.1+ MB\n",
      "-----------------------------------------------------------------------------------\n",
      "<class 'pandas.core.frame.DataFrame'>\n",
      "RangeIndex: 152 entries, 0 to 151\n",
      "Data columns (total 3 columns):\n",
      " #   Column   Non-Null Count  Dtype \n",
      "---  ------   --------------  ----- \n",
      " 0   Player   152 non-null    object\n",
      " 1   ID       152 non-null    int64 \n",
      " 2   Country  152 non-null    object\n",
      "dtypes: int64(1), object(2)\n",
      "memory usage: 3.7+ KB\n",
      "-----------------------------------------------------------------------------------\n",
      "<class 'pandas.core.frame.DataFrame'>\n",
      "RangeIndex: 11118 entries, 0 to 11117\n",
      "Data columns (total 14 columns):\n",
      " #   Column      Non-Null Count  Dtype \n",
      "---  ------      --------------  ----- \n",
      " 0   Unnamed: 0  11118 non-null  int64 \n",
      " 1   Overs       11118 non-null  object\n",
      " 2   Mdns        11118 non-null  object\n",
      " 3   Runs        11118 non-null  object\n",
      " 4   Wkts        11118 non-null  object\n",
      " 5   Econ        11118 non-null  object\n",
      " 6   Ave         11118 non-null  object\n",
      " 7   SR          11118 non-null  object\n",
      " 8   Opposition  11118 non-null  object\n",
      " 9   Ground      11118 non-null  object\n",
      " 10  Start Date  11118 non-null  object\n",
      " 11  Match_ID    11118 non-null  object\n",
      " 12  Bowler      11118 non-null  object\n",
      " 13  Player_ID   11118 non-null  int64 \n",
      "dtypes: int64(2), object(12)\n",
      "memory usage: 1.2+ MB\n"
     ]
    }
   ],
   "source": [
    "df4.info()\n",
    "print(\"-----------------------------------------------------------------------------------\")\n",
    "df5.info()\n",
    "print(\"-----------------------------------------------------------------------------------\")\n",
    "df6.info()"
   ]
  },
  {
   "cell_type": "code",
   "execution_count": 86,
   "id": "a4a3ddb6",
   "metadata": {},
   "outputs": [
    {
     "data": {
      "text/plain": [
       "(11149, 13)"
      ]
     },
     "execution_count": 86,
     "metadata": {},
     "output_type": "execute_result"
    }
   ],
   "source": [
    "df4.shape"
   ]
  },
  {
   "cell_type": "code",
   "execution_count": 87,
   "id": "0b52625a",
   "metadata": {},
   "outputs": [
    {
     "data": {
      "text/plain": [
       "(152, 3)"
      ]
     },
     "execution_count": 87,
     "metadata": {},
     "output_type": "execute_result"
    }
   ],
   "source": [
    "df5.shape"
   ]
  },
  {
   "cell_type": "code",
   "execution_count": 88,
   "id": "5d5ccdf4",
   "metadata": {},
   "outputs": [
    {
     "data": {
      "text/plain": [
       "(11118, 14)"
      ]
     },
     "execution_count": 88,
     "metadata": {},
     "output_type": "execute_result"
    }
   ],
   "source": [
    "df6.shape"
   ]
  },
  {
   "cell_type": "code",
   "execution_count": 89,
   "id": "94a64922",
   "metadata": {},
   "outputs": [
    {
     "data": {
      "text/html": [
       "<div>\n",
       "<style scoped>\n",
       "    .dataframe tbody tr th:only-of-type {\n",
       "        vertical-align: middle;\n",
       "    }\n",
       "\n",
       "    .dataframe tbody tr th {\n",
       "        vertical-align: top;\n",
       "    }\n",
       "\n",
       "    .dataframe thead th {\n",
       "        text-align: right;\n",
       "    }\n",
       "</style>\n",
       "<table border=\"1\" class=\"dataframe\">\n",
       "  <thead>\n",
       "    <tr style=\"text-align: right;\">\n",
       "      <th></th>\n",
       "      <th>Unnamed: 0</th>\n",
       "      <th>Bat1</th>\n",
       "      <th>Runs</th>\n",
       "      <th>BF</th>\n",
       "      <th>SR</th>\n",
       "      <th>4s</th>\n",
       "      <th>6s</th>\n",
       "      <th>Opposition</th>\n",
       "      <th>Ground</th>\n",
       "      <th>Start Date</th>\n",
       "      <th>Match_ID</th>\n",
       "      <th>Batsman</th>\n",
       "      <th>Player_ID</th>\n",
       "    </tr>\n",
       "  </thead>\n",
       "  <tbody>\n",
       "    <tr>\n",
       "      <th>0</th>\n",
       "      <td>1</td>\n",
       "      <td>DNB</td>\n",
       "      <td>-</td>\n",
       "      <td>-</td>\n",
       "      <td>-</td>\n",
       "      <td>-</td>\n",
       "      <td>-</td>\n",
       "      <td>v India</td>\n",
       "      <td>Nagpur</td>\n",
       "      <td>18 Dec 2009</td>\n",
       "      <td>ODI # 2933</td>\n",
       "      <td>Oshane Thomas</td>\n",
       "      <td>49619</td>\n",
       "    </tr>\n",
       "    <tr>\n",
       "      <th>1</th>\n",
       "      <td>2</td>\n",
       "      <td>DNB</td>\n",
       "      <td>-</td>\n",
       "      <td>-</td>\n",
       "      <td>-</td>\n",
       "      <td>-</td>\n",
       "      <td>-</td>\n",
       "      <td>v India</td>\n",
       "      <td>Kolkata</td>\n",
       "      <td>24 Dec 2009</td>\n",
       "      <td>ODI # 2935</td>\n",
       "      <td>Oshane Thomas</td>\n",
       "      <td>49619</td>\n",
       "    </tr>\n",
       "    <tr>\n",
       "      <th>2</th>\n",
       "      <td>3</td>\n",
       "      <td>DNB</td>\n",
       "      <td>-</td>\n",
       "      <td>-</td>\n",
       "      <td>-</td>\n",
       "      <td>-</td>\n",
       "      <td>-</td>\n",
       "      <td>v India</td>\n",
       "      <td>Delhi</td>\n",
       "      <td>27 Dec 2009</td>\n",
       "      <td>ODI # 2936</td>\n",
       "      <td>Oshane Thomas</td>\n",
       "      <td>49619</td>\n",
       "    </tr>\n",
       "    <tr>\n",
       "      <th>3</th>\n",
       "      <td>4</td>\n",
       "      <td>DNB</td>\n",
       "      <td>-</td>\n",
       "      <td>-</td>\n",
       "      <td>-</td>\n",
       "      <td>-</td>\n",
       "      <td>-</td>\n",
       "      <td>v Bangladesh</td>\n",
       "      <td>Dhaka</td>\n",
       "      <td>4 Jan 2010</td>\n",
       "      <td>ODI # 2937</td>\n",
       "      <td>Oshane Thomas</td>\n",
       "      <td>49619</td>\n",
       "    </tr>\n",
       "    <tr>\n",
       "      <th>4</th>\n",
       "      <td>5</td>\n",
       "      <td>DNB</td>\n",
       "      <td>-</td>\n",
       "      <td>-</td>\n",
       "      <td>-</td>\n",
       "      <td>-</td>\n",
       "      <td>-</td>\n",
       "      <td>v India</td>\n",
       "      <td>Dhaka</td>\n",
       "      <td>5 Jan 2010</td>\n",
       "      <td>ODI # 2938</td>\n",
       "      <td>Oshane Thomas</td>\n",
       "      <td>49619</td>\n",
       "    </tr>\n",
       "  </tbody>\n",
       "</table>\n",
       "</div>"
      ],
      "text/plain": [
       "   Unnamed: 0 Bat1 Runs BF SR 4s 6s    Opposition   Ground   Start Date  \\\n",
       "0           1  DNB    -  -  -  -  -       v India   Nagpur  18 Dec 2009   \n",
       "1           2  DNB    -  -  -  -  -       v India  Kolkata  24 Dec 2009   \n",
       "2           3  DNB    -  -  -  -  -       v India    Delhi  27 Dec 2009   \n",
       "3           4  DNB    -  -  -  -  -  v Bangladesh    Dhaka   4 Jan 2010   \n",
       "4           5  DNB    -  -  -  -  -       v India    Dhaka   5 Jan 2010   \n",
       "\n",
       "     Match_ID        Batsman  Player_ID  \n",
       "0  ODI # 2933  Oshane Thomas      49619  \n",
       "1  ODI # 2935  Oshane Thomas      49619  \n",
       "2  ODI # 2936  Oshane Thomas      49619  \n",
       "3  ODI # 2937  Oshane Thomas      49619  \n",
       "4  ODI # 2938  Oshane Thomas      49619  "
      ]
     },
     "execution_count": 89,
     "metadata": {},
     "output_type": "execute_result"
    }
   ],
   "source": [
    "df4.head()"
   ]
  },
  {
   "cell_type": "code",
   "execution_count": 90,
   "id": "804acb20",
   "metadata": {},
   "outputs": [
    {
     "data": {
      "text/html": [
       "<div>\n",
       "<style scoped>\n",
       "    .dataframe tbody tr th:only-of-type {\n",
       "        vertical-align: middle;\n",
       "    }\n",
       "\n",
       "    .dataframe tbody tr th {\n",
       "        vertical-align: top;\n",
       "    }\n",
       "\n",
       "    .dataframe thead th {\n",
       "        text-align: right;\n",
       "    }\n",
       "</style>\n",
       "<table border=\"1\" class=\"dataframe\">\n",
       "  <thead>\n",
       "    <tr style=\"text-align: right;\">\n",
       "      <th></th>\n",
       "      <th>Player</th>\n",
       "      <th>ID</th>\n",
       "      <th>Country</th>\n",
       "    </tr>\n",
       "  </thead>\n",
       "  <tbody>\n",
       "    <tr>\n",
       "      <th>0</th>\n",
       "      <td>Gulbadin Naib (c)</td>\n",
       "      <td>352048</td>\n",
       "      <td>Afghanistan</td>\n",
       "    </tr>\n",
       "    <tr>\n",
       "      <th>1</th>\n",
       "      <td>Rashid Khan (vc)</td>\n",
       "      <td>793463</td>\n",
       "      <td>Afghanistan</td>\n",
       "    </tr>\n",
       "    <tr>\n",
       "      <th>2</th>\n",
       "      <td>Aftab Alam</td>\n",
       "      <td>440963</td>\n",
       "      <td>Afghanistan</td>\n",
       "    </tr>\n",
       "    <tr>\n",
       "      <th>3</th>\n",
       "      <td>Asghar Afghan</td>\n",
       "      <td>320652</td>\n",
       "      <td>Afghanistan</td>\n",
       "    </tr>\n",
       "    <tr>\n",
       "      <th>4</th>\n",
       "      <td>Dawlat Zadran</td>\n",
       "      <td>516561</td>\n",
       "      <td>Afghanistan</td>\n",
       "    </tr>\n",
       "  </tbody>\n",
       "</table>\n",
       "</div>"
      ],
      "text/plain": [
       "              Player      ID      Country\n",
       "0  Gulbadin Naib (c)  352048  Afghanistan\n",
       "1   Rashid Khan (vc)  793463  Afghanistan\n",
       "2         Aftab Alam  440963  Afghanistan\n",
       "3      Asghar Afghan  320652  Afghanistan\n",
       "4      Dawlat Zadran  516561  Afghanistan"
      ]
     },
     "execution_count": 90,
     "metadata": {},
     "output_type": "execute_result"
    }
   ],
   "source": [
    "df5.head()"
   ]
  },
  {
   "cell_type": "code",
   "execution_count": 91,
   "id": "8aa85789",
   "metadata": {},
   "outputs": [
    {
     "data": {
      "text/html": [
       "<div>\n",
       "<style scoped>\n",
       "    .dataframe tbody tr th:only-of-type {\n",
       "        vertical-align: middle;\n",
       "    }\n",
       "\n",
       "    .dataframe tbody tr th {\n",
       "        vertical-align: top;\n",
       "    }\n",
       "\n",
       "    .dataframe thead th {\n",
       "        text-align: right;\n",
       "    }\n",
       "</style>\n",
       "<table border=\"1\" class=\"dataframe\">\n",
       "  <thead>\n",
       "    <tr style=\"text-align: right;\">\n",
       "      <th></th>\n",
       "      <th>Unnamed: 0</th>\n",
       "      <th>Overs</th>\n",
       "      <th>Mdns</th>\n",
       "      <th>Runs</th>\n",
       "      <th>Wkts</th>\n",
       "      <th>Econ</th>\n",
       "      <th>Ave</th>\n",
       "      <th>SR</th>\n",
       "      <th>Opposition</th>\n",
       "      <th>Ground</th>\n",
       "      <th>Start Date</th>\n",
       "      <th>Match_ID</th>\n",
       "      <th>Bowler</th>\n",
       "      <th>Player_ID</th>\n",
       "    </tr>\n",
       "  </thead>\n",
       "  <tbody>\n",
       "    <tr>\n",
       "      <th>0</th>\n",
       "      <td>1</td>\n",
       "      <td>8.0</td>\n",
       "      <td>0</td>\n",
       "      <td>57</td>\n",
       "      <td>0</td>\n",
       "      <td>7.12</td>\n",
       "      <td>-</td>\n",
       "      <td>-</td>\n",
       "      <td>v India</td>\n",
       "      <td>Nagpur</td>\n",
       "      <td>18 Dec 2009</td>\n",
       "      <td>ODI # 2933</td>\n",
       "      <td>Suranga Lakmal</td>\n",
       "      <td>49619</td>\n",
       "    </tr>\n",
       "    <tr>\n",
       "      <th>1</th>\n",
       "      <td>2</td>\n",
       "      <td>10.0</td>\n",
       "      <td>0</td>\n",
       "      <td>55</td>\n",
       "      <td>2</td>\n",
       "      <td>5.50</td>\n",
       "      <td>27.50</td>\n",
       "      <td>30.0</td>\n",
       "      <td>v India</td>\n",
       "      <td>Kolkata</td>\n",
       "      <td>24 Dec 2009</td>\n",
       "      <td>ODI # 2935</td>\n",
       "      <td>Suranga Lakmal</td>\n",
       "      <td>49619</td>\n",
       "    </tr>\n",
       "    <tr>\n",
       "      <th>2</th>\n",
       "      <td>3</td>\n",
       "      <td>-</td>\n",
       "      <td>-</td>\n",
       "      <td>-</td>\n",
       "      <td>-</td>\n",
       "      <td>-</td>\n",
       "      <td>-</td>\n",
       "      <td>-</td>\n",
       "      <td>v India</td>\n",
       "      <td>Delhi</td>\n",
       "      <td>27 Dec 2009</td>\n",
       "      <td>ODI # 2936</td>\n",
       "      <td>Suranga Lakmal</td>\n",
       "      <td>49619</td>\n",
       "    </tr>\n",
       "    <tr>\n",
       "      <th>3</th>\n",
       "      <td>4</td>\n",
       "      <td>9.0</td>\n",
       "      <td>1</td>\n",
       "      <td>63</td>\n",
       "      <td>2</td>\n",
       "      <td>7.00</td>\n",
       "      <td>31.50</td>\n",
       "      <td>27.0</td>\n",
       "      <td>v Bangladesh</td>\n",
       "      <td>Dhaka</td>\n",
       "      <td>4 Jan 2010</td>\n",
       "      <td>ODI # 2937</td>\n",
       "      <td>Suranga Lakmal</td>\n",
       "      <td>49619</td>\n",
       "    </tr>\n",
       "    <tr>\n",
       "      <th>4</th>\n",
       "      <td>5</td>\n",
       "      <td>8.0</td>\n",
       "      <td>1</td>\n",
       "      <td>48</td>\n",
       "      <td>0</td>\n",
       "      <td>6.00</td>\n",
       "      <td>-</td>\n",
       "      <td>-</td>\n",
       "      <td>v India</td>\n",
       "      <td>Dhaka</td>\n",
       "      <td>5 Jan 2010</td>\n",
       "      <td>ODI # 2938</td>\n",
       "      <td>Suranga Lakmal</td>\n",
       "      <td>49619</td>\n",
       "    </tr>\n",
       "  </tbody>\n",
       "</table>\n",
       "</div>"
      ],
      "text/plain": [
       "   Unnamed: 0 Overs Mdns Runs Wkts  Econ    Ave    SR    Opposition   Ground  \\\n",
       "0           1   8.0    0   57    0  7.12      -     -       v India   Nagpur   \n",
       "1           2  10.0    0   55    2  5.50  27.50  30.0       v India  Kolkata   \n",
       "2           3     -    -    -    -     -      -     -       v India    Delhi   \n",
       "3           4   9.0    1   63    2  7.00  31.50  27.0  v Bangladesh    Dhaka   \n",
       "4           5   8.0    1   48    0  6.00      -     -       v India    Dhaka   \n",
       "\n",
       "    Start Date    Match_ID          Bowler  Player_ID  \n",
       "0  18 Dec 2009  ODI # 2933  Suranga Lakmal      49619  \n",
       "1  24 Dec 2009  ODI # 2935  Suranga Lakmal      49619  \n",
       "2  27 Dec 2009  ODI # 2936  Suranga Lakmal      49619  \n",
       "3   4 Jan 2010  ODI # 2937  Suranga Lakmal      49619  \n",
       "4   5 Jan 2010  ODI # 2938  Suranga Lakmal      49619  "
      ]
     },
     "execution_count": 91,
     "metadata": {},
     "output_type": "execute_result"
    }
   ],
   "source": [
    "df6.head()"
   ]
  },
  {
   "cell_type": "code",
   "execution_count": 92,
   "id": "890f6825",
   "metadata": {},
   "outputs": [
    {
     "data": {
      "text/plain": [
       "Unnamed: 0    0\n",
       "Bat1          0\n",
       "Runs          0\n",
       "BF            0\n",
       "SR            0\n",
       "4s            0\n",
       "6s            0\n",
       "Opposition    0\n",
       "Ground        0\n",
       "Start Date    0\n",
       "Match_ID      0\n",
       "Batsman       0\n",
       "Player_ID     0\n",
       "dtype: int64"
      ]
     },
     "execution_count": 92,
     "metadata": {},
     "output_type": "execute_result"
    }
   ],
   "source": [
    "df4.isnull().sum()"
   ]
  },
  {
   "cell_type": "code",
   "execution_count": 94,
   "id": "62170562",
   "metadata": {},
   "outputs": [
    {
     "data": {
      "text/plain": [
       "Player     0\n",
       "ID         0\n",
       "Country    0\n",
       "dtype: int64"
      ]
     },
     "execution_count": 94,
     "metadata": {},
     "output_type": "execute_result"
    }
   ],
   "source": [
    "df5.isnull().sum()"
   ]
  },
  {
   "cell_type": "code",
   "execution_count": 95,
   "id": "8d54a267",
   "metadata": {},
   "outputs": [
    {
     "data": {
      "text/plain": [
       "Unnamed: 0    0\n",
       "Overs         0\n",
       "Mdns          0\n",
       "Runs          0\n",
       "Wkts          0\n",
       "Econ          0\n",
       "Ave           0\n",
       "SR            0\n",
       "Opposition    0\n",
       "Ground        0\n",
       "Start Date    0\n",
       "Match_ID      0\n",
       "Bowler        0\n",
       "Player_ID     0\n",
       "dtype: int64"
      ]
     },
     "execution_count": 95,
     "metadata": {},
     "output_type": "execute_result"
    }
   ],
   "source": [
    "df6.isnull().sum()"
   ]
  },
  {
   "cell_type": "code",
   "execution_count": 98,
   "id": "a4dbde80",
   "metadata": {},
   "outputs": [],
   "source": [
    "WC_venue_pitches = [\"The Oval, London\",\"Trent Bridge, Nottingham\",\"Sophia Gardens, Cardiff\",\"County Ground, Bristol\",\"Rose Bowl, Southampton\",\"County Ground, Taunton\",\"Old Trafford, Manchester\",\"Edgbaston, Birmingham\",\"Headingley, Leeds\",\"Lord's, London\",\"Riverside Ground, Chester-le-Street\"]"
   ]
  },
  {
   "cell_type": "code",
   "execution_count": 99,
   "id": "c767acc4",
   "metadata": {},
   "outputs": [],
   "source": [
    "\n",
    "#Total Grounds\n",
    "WC_Ground_Stats = []\n",
    "ODI_Grounds = df3.Ground\n",
    "for i in ODI_Grounds:\n",
    "    for j in WC_venue_pitches:\n",
    "        if i in j:\n",
    "            #print(\"i ; \",i,\"--j : \",j)\n",
    "            WC_Ground_Stats.append((i,j))\n",
    "            "
   ]
  },
  {
   "cell_type": "code",
   "execution_count": 100,
   "id": "97c10a08",
   "metadata": {},
   "outputs": [
    {
     "data": {
      "text/plain": [
       "{'Bristol': 'County Ground, Bristol',\n",
       " 'Leeds': 'Headingley, Leeds',\n",
       " 'Chester-le-Street': 'Riverside Ground, Chester-le-Street',\n",
       " 'Southampton': 'Rose Bowl, Southampton',\n",
       " 'Birmingham': 'Edgbaston, Birmingham',\n",
       " 'Manchester': 'Old Trafford, Manchester',\n",
       " 'Nottingham': 'Trent Bridge, Nottingham',\n",
       " \"Lord's\": \"Lord's, London\",\n",
       " 'Cardiff': 'Sophia Gardens, Cardiff',\n",
       " 'The Oval': 'The Oval, London'}"
      ]
     },
     "execution_count": 100,
     "metadata": {},
     "output_type": "execute_result"
    }
   ],
   "source": [
    "Ground_names = dict(set(WC_Ground_Stats))\n",
    "def Full_Ground_names(value):\n",
    "    return Ground_names[value]\n",
    "Ground_names"
   ]
  },
  {
   "cell_type": "raw",
   "id": "d15949ed",
   "metadata": {},
   "source": [
    "#Let's gather the data of all ODI's in these WC Venues\n",
    "WC_Grounds_History = df3[df3.Ground.isin([Ground[0] for Ground in WC_Ground_Stats])]\n",
    "WC_Grounds_History[\"Ground\"] = WC_Grounds_History.Ground.apply(Full_Ground_names)\n",
    "WC_Grounds_History.head()"
   ]
  },
  {
   "cell_type": "code",
   "execution_count": 103,
   "id": "0e0cdf99",
   "metadata": {},
   "outputs": [
    {
     "name": "stdout",
     "output_type": "stream",
     "text": [
      "Object `they` not found.\n"
     ]
    }
   ],
   "source": [
    "How many WC teams have played in these venues before and what are they?"
   ]
  },
  {
   "cell_type": "markdown",
   "id": "6017abc8",
   "metadata": {},
   "source": [
    "#### How many WC teams have played in these venues before and what are they"
   ]
  },
  {
   "cell_type": "code",
   "execution_count": 107,
   "id": "c7aa6a2a",
   "metadata": {},
   "outputs": [
    {
     "data": {
      "text/plain": [
       "(array([0, 1, 2, 3, 4, 5, 6, 7, 8]),\n",
       " [Text(0, 0, 'England'),\n",
       "  Text(1, 0, 'Australia'),\n",
       "  Text(2, 0, 'Pakistan'),\n",
       "  Text(3, 0, 'India'),\n",
       "  Text(4, 0, 'SriLanka'),\n",
       "  Text(5, 0, 'Newzealad'),\n",
       "  Text(6, 0, 'SouthAfrica'),\n",
       "  Text(7, 0, 'WestIndies'),\n",
       "  Text(8, 0, 'Bangladesh')])"
      ]
     },
     "execution_count": 107,
     "metadata": {},
     "output_type": "execute_result"
    },
    {
     "data": {
      "image/png": "[encoded data removed]",
      "text/plain": [
       "<Figure size 1080x576 with 1 Axes>"
      ]
     },
     "metadata": {
      "needs_background": "light"
     },
     "output_type": "display_data"
    }
   ],
   "source": [
    "Team_Matches = WC_Grounds_History.Country.value_counts().reset_index()\n",
    "plt.figure(figsize=(15,8))\n",
    "sns.barplot(x = \"index\", y = \"Country\", data = Team_Matches).set_title(\"Total Matches Played by each Country\")\n",
    "plt.xlabel(\"Country\")\n",
    "plt.ylabel(\"Matches Played\")\n",
    "plt.xticks(rotation = 60)"
   ]
  },
  {
   "cell_type": "raw",
   "id": "c3115bad",
   "metadata": {},
   "source": [
    "So, England has the benifit of Home conditions and even playing many matches over there, they will get used to those pitches and can understand the conditions of pitches very well.\n",
    "After England, it's Aussies which played many mathces in those conditions."
   ]
  },
  {
   "cell_type": "markdown",
   "id": "55abe6ca",
   "metadata": {},
   "source": [
    "### Team wise Winning Percentage in England Pitches"
   ]
  },
  {
   "cell_type": "code",
   "execution_count": 109,
   "id": "8fc85988",
   "metadata": {},
   "outputs": [
    {
     "data": {
      "text/html": [
       "<div>\n",
       "<style scoped>\n",
       "    .dataframe tbody tr th:only-of-type {\n",
       "        vertical-align: middle;\n",
       "    }\n",
       "\n",
       "    .dataframe tbody tr th {\n",
       "        vertical-align: top;\n",
       "    }\n",
       "\n",
       "    .dataframe thead th {\n",
       "        text-align: right;\n",
       "    }\n",
       "</style>\n",
       "<table border=\"1\" class=\"dataframe\">\n",
       "  <thead>\n",
       "    <tr style=\"text-align: right;\">\n",
       "      <th></th>\n",
       "      <th>Unnamed: 0</th>\n",
       "      <th>Score</th>\n",
       "      <th>Overs</th>\n",
       "      <th>RPO</th>\n",
       "      <th>Target</th>\n",
       "      <th>Inns</th>\n",
       "      <th>Result</th>\n",
       "      <th>Opposition</th>\n",
       "      <th>Ground</th>\n",
       "      <th>Start Date</th>\n",
       "      <th>Match_ID</th>\n",
       "      <th>Country</th>\n",
       "      <th>Country_ID</th>\n",
       "    </tr>\n",
       "  </thead>\n",
       "  <tbody>\n",
       "    <tr>\n",
       "      <th>1291</th>\n",
       "      <td>549</td>\n",
       "      <td>340/7</td>\n",
       "      <td>50.0</td>\n",
       "      <td>6.80</td>\n",
       "      <td>NaN</td>\n",
       "      <td>1</td>\n",
       "      <td>lost</td>\n",
       "      <td>v England</td>\n",
       "      <td>Trent Bridge, Nottingham</td>\n",
       "      <td>17 May 2019</td>\n",
       "      <td>ODI # 4138</td>\n",
       "      <td>Pakistan</td>\n",
       "      <td>7</td>\n",
       "    </tr>\n",
       "    <tr>\n",
       "      <th>1089</th>\n",
       "      <td>960</td>\n",
       "      <td>314/4</td>\n",
       "      <td>44.4</td>\n",
       "      <td>7.02</td>\n",
       "      <td>311.0</td>\n",
       "      <td>2</td>\n",
       "      <td>won</td>\n",
       "      <td>v Australia</td>\n",
       "      <td>Riverside Ground, Chester-le-Street</td>\n",
       "      <td>21 Jun 2018</td>\n",
       "      <td>ODI # 4012</td>\n",
       "      <td>England</td>\n",
       "      <td>1</td>\n",
       "    </tr>\n",
       "    <tr>\n",
       "      <th>601</th>\n",
       "      <td>1134</td>\n",
       "      <td>207</td>\n",
       "      <td>44.0</td>\n",
       "      <td>4.70</td>\n",
       "      <td>301.0</td>\n",
       "      <td>2</td>\n",
       "      <td>lost</td>\n",
       "      <td>v England</td>\n",
       "      <td>Old Trafford, Manchester</td>\n",
       "      <td>8 Sep 2015</td>\n",
       "      <td>ODI # 3682</td>\n",
       "      <td>Australia</td>\n",
       "      <td>2</td>\n",
       "    </tr>\n",
       "    <tr>\n",
       "      <th>899</th>\n",
       "      <td>508</td>\n",
       "      <td>164</td>\n",
       "      <td>33.4</td>\n",
       "      <td>4.87</td>\n",
       "      <td>289.0</td>\n",
       "      <td>2</td>\n",
       "      <td>lost</td>\n",
       "      <td>v India</td>\n",
       "      <td>Edgbaston, Birmingham</td>\n",
       "      <td>4 Jun 2017</td>\n",
       "      <td>ODI # 3878</td>\n",
       "      <td>Pakistan</td>\n",
       "      <td>7</td>\n",
       "    </tr>\n",
       "    <tr>\n",
       "      <th>108</th>\n",
       "      <td>691</td>\n",
       "      <td>129/7</td>\n",
       "      <td>20.0</td>\n",
       "      <td>6.45</td>\n",
       "      <td>NaN</td>\n",
       "      <td>1</td>\n",
       "      <td>won</td>\n",
       "      <td>v England</td>\n",
       "      <td>Edgbaston, Birmingham</td>\n",
       "      <td>23 Jun 2013</td>\n",
       "      <td>ODI # 3377</td>\n",
       "      <td>India</td>\n",
       "      <td>6</td>\n",
       "    </tr>\n",
       "  </tbody>\n",
       "</table>\n",
       "</div>"
      ],
      "text/plain": [
       "      Unnamed: 0  Score  Overs   RPO  Target  Inns Result   Opposition  \\\n",
       "1291         549  340/7   50.0  6.80     NaN     1   lost    v England   \n",
       "1089         960  314/4   44.4  7.02   311.0     2    won  v Australia   \n",
       "601         1134    207   44.0  4.70   301.0     2   lost    v England   \n",
       "899          508    164   33.4  4.87   289.0     2   lost      v India   \n",
       "108          691  129/7   20.0  6.45     NaN     1    won    v England   \n",
       "\n",
       "                                   Ground   Start Date    Match_ID    Country  \\\n",
       "1291             Trent Bridge, Nottingham  17 May 2019  ODI # 4138   Pakistan   \n",
       "1089  Riverside Ground, Chester-le-Street  21 Jun 2018  ODI # 4012    England   \n",
       "601              Old Trafford, Manchester   8 Sep 2015  ODI # 3682  Australia   \n",
       "899                 Edgbaston, Birmingham   4 Jun 2017  ODI # 3878   Pakistan   \n",
       "108                 Edgbaston, Birmingham  23 Jun 2013  ODI # 3377      India   \n",
       "\n",
       "      Country_ID  \n",
       "1291           7  \n",
       "1089           1  \n",
       "601            2  \n",
       "899            7  \n",
       "108            6  "
      ]
     },
     "execution_count": 109,
     "metadata": {},
     "output_type": "execute_result"
    }
   ],
   "source": [
    "WC_Grounds_History.sample(5)"
   ]
  },
  {
   "cell_type": "code",
   "execution_count": 110,
   "id": "3be33d40",
   "metadata": {},
   "outputs": [
    {
     "data": {
      "text/plain": [
       "won     79\n",
       "lost    77\n",
       "n/r     14\n",
       "tied     4\n",
       "-        2\n",
       "Name: Result, dtype: int64"
      ]
     },
     "execution_count": 110,
     "metadata": {},
     "output_type": "execute_result"
    }
   ],
   "source": [
    "WC_Grounds_History.Result.value_counts()"
   ]
  },
  {
   "cell_type": "code",
   "execution_count": 111,
   "id": "b02b279c",
   "metadata": {},
   "outputs": [
    {
     "data": {
      "text/plain": [
       "won     79\n",
       "lost    77\n",
       "n/r     14\n",
       "tied     4\n",
       "Name: Result, dtype: int64"
      ]
     },
     "execution_count": 111,
     "metadata": {},
     "output_type": "execute_result"
    }
   ],
   "source": [
    "WC_Grounds_History = WC_Grounds_History[~WC_Grounds_History.Result.isin([\"-\"])]\n",
    "WC_Grounds_History.Result.value_counts()"
   ]
  },
  {
   "cell_type": "code",
   "execution_count": 112,
   "id": "66fbefcf",
   "metadata": {},
   "outputs": [
    {
     "name": "stderr",
     "output_type": "stream",
     "text": [
      "C:\\Users\\HP\\AppData\\Local\\Temp\\ipykernel_16828\\294363340.py:2: SettingWithCopyWarning: \n",
      "A value is trying to be set on a copy of a slice from a DataFrame.\n",
      "Try using .loc[row_indexer,col_indexer] = value instead\n",
      "\n",
      "See the caveats in the documentation: https://pandas.pydata.org/pandas-docs/stable/user_guide/indexing.html#returning-a-view-versus-a-copy\n",
      "  winnings[\"count\"] = 1\n"
     ]
    },
    {
     "data": {
      "text/html": [
       "<div>\n",
       "<style scoped>\n",
       "    .dataframe tbody tr th:only-of-type {\n",
       "        vertical-align: middle;\n",
       "    }\n",
       "\n",
       "    .dataframe tbody tr th {\n",
       "        vertical-align: top;\n",
       "    }\n",
       "\n",
       "    .dataframe thead th {\n",
       "        text-align: right;\n",
       "    }\n",
       "</style>\n",
       "<table border=\"1\" class=\"dataframe\">\n",
       "  <thead>\n",
       "    <tr style=\"text-align: right;\">\n",
       "      <th></th>\n",
       "      <th>Country</th>\n",
       "      <th>Result</th>\n",
       "      <th>Count</th>\n",
       "    </tr>\n",
       "  </thead>\n",
       "  <tbody>\n",
       "    <tr>\n",
       "      <th>0</th>\n",
       "      <td>Australia</td>\n",
       "      <td>lost</td>\n",
       "      <td>55.0</td>\n",
       "    </tr>\n",
       "    <tr>\n",
       "      <th>1</th>\n",
       "      <td>Australia</td>\n",
       "      <td>n/r</td>\n",
       "      <td>20.0</td>\n",
       "    </tr>\n",
       "    <tr>\n",
       "      <th>2</th>\n",
       "      <td>Australia</td>\n",
       "      <td>won</td>\n",
       "      <td>25.0</td>\n",
       "    </tr>\n",
       "    <tr>\n",
       "      <th>3</th>\n",
       "      <td>Bangladesh</td>\n",
       "      <td>lost</td>\n",
       "      <td>50.0</td>\n",
       "    </tr>\n",
       "    <tr>\n",
       "      <th>4</th>\n",
       "      <td>Bangladesh</td>\n",
       "      <td>n/r</td>\n",
       "      <td>25.0</td>\n",
       "    </tr>\n",
       "  </tbody>\n",
       "</table>\n",
       "</div>"
      ],
      "text/plain": [
       "      Country Result  Count\n",
       "0   Australia   lost   55.0\n",
       "1   Australia    n/r   20.0\n",
       "2   Australia    won   25.0\n",
       "3  Bangladesh   lost   50.0\n",
       "4  Bangladesh    n/r   25.0"
      ]
     },
     "execution_count": 112,
     "metadata": {},
     "output_type": "execute_result"
    }
   ],
   "source": [
    "winnings = WC_Grounds_History[[\"Country\",\"Result\"]]\n",
    "winnings[\"count\"] = 1\n",
    "Ground_Results_Per_Team = winnings.groupby([\"Country\",\"Result\"]).aggregate([\"sum\"])\n",
    "Ground_Results_Per_Team = Ground_Results_Per_Team.groupby(level=0).apply(lambda x:100 * x / float(x.sum())).reset_index()\n",
    "Ground_Results_Per_Team.columns = [\"Country\",\"Result\",\"Count\"]\n",
    "Ground_Results_Per_Team.head()"
   ]
  },
  {
   "cell_type": "code",
   "execution_count": 113,
   "id": "80b436d7",
   "metadata": {},
   "outputs": [
    {
     "data": {
      "text/plain": [
       "(array([0, 1, 2, 3, 4, 5, 6, 7, 8]),\n",
       " [Text(0, 0, 'Australia'),\n",
       "  Text(1, 0, 'Bangladesh'),\n",
       "  Text(2, 0, 'England'),\n",
       "  Text(3, 0, 'India'),\n",
       "  Text(4, 0, 'Newzealad'),\n",
       "  Text(5, 0, 'Pakistan'),\n",
       "  Text(6, 0, 'SouthAfrica'),\n",
       "  Text(7, 0, 'SriLanka'),\n",
       "  Text(8, 0, 'WestIndies')])"
      ]
     },
     "execution_count": 113,
     "metadata": {},
     "output_type": "execute_result"
    },
    {
     "data": {
      "image/png": "[encoded data removed]",
      "text/plain": [
       "<Figure size 1080x576 with 1 Axes>"
      ]
     },
     "metadata": {
      "needs_background": "light"
     },
     "output_type": "display_data"
    }
   ],
   "source": [
    "plt.figure(figsize=(15,8))\n",
    "sns.barplot(x = \"Country\", y = \"Count\", hue = \"Result\", data = Ground_Results_Per_Team)\n",
    "plt.ylabel(\"Percentage\")\n",
    "plt.title(\"Country - Results\")\n",
    "plt.xticks(rotation = 60)"
   ]
  },
  {
   "cell_type": "markdown",
   "id": "8c5fa876",
   "metadata": {},
   "source": [
    "India and England have the highest winning percentage compared to that of other Nations.\n",
    "Pakistan, South Africa, West Indies have the Highest Losing Percentage."
   ]
  },
  {
   "cell_type": "code",
   "execution_count": 114,
   "id": "82aabf0d",
   "metadata": {},
   "outputs": [
    {
     "name": "stderr",
     "output_type": "stream",
     "text": [
      "C:\\Users\\HP\\AppData\\Local\\Temp\\ipykernel_16828\\2357038178.py:1: UserWarning: Boolean Series key will be reindexed to match DataFrame index.\n",
      "  India_vs_England = WC_Grounds_History[WC_Grounds_History.Country == \"England\"]\\\n"
     ]
    },
    {
     "data": {
      "text/plain": [
       "Text(0.5, 0, 'England')"
      ]
     },
     "execution_count": 114,
     "metadata": {},
     "output_type": "execute_result"
    },
    {
     "data": {
      "image/png": "[encoded data removed]",
      "text/plain": [
       "<Figure size 432x288 with 1 Axes>"
      ]
     },
     "metadata": {
      "needs_background": "light"
     },
     "output_type": "display_data"
    }
   ],
   "source": [
    "India_vs_England = WC_Grounds_History[WC_Grounds_History.Country == \"England\"]\\\n",
    "[WC_Grounds_History.Opposition.str.contains(\"India\")]\n",
    "India_vs_England = India_vs_England.Result.value_counts().reset_index()\n",
    "sns.barplot(x = \"index\", y = \"Result\", data = India_vs_England).set_title(\"England against India\")\n",
    "plt.xlabel(\"England\")"
   ]
  },
  {
   "cell_type": "markdown",
   "id": "1b34cdfc",
   "metadata": {},
   "source": [
    "#### Win and Lose Percentage based on Innings wrt Stadium"
   ]
  },
  {
   "cell_type": "code",
   "execution_count": 115,
   "id": "3dff579f",
   "metadata": {},
   "outputs": [
    {
     "data": {
      "text/html": [
       "<div>\n",
       "<style scoped>\n",
       "    .dataframe tbody tr th:only-of-type {\n",
       "        vertical-align: middle;\n",
       "    }\n",
       "\n",
       "    .dataframe tbody tr th {\n",
       "        vertical-align: top;\n",
       "    }\n",
       "\n",
       "    .dataframe thead th {\n",
       "        text-align: right;\n",
       "    }\n",
       "</style>\n",
       "<table border=\"1\" class=\"dataframe\">\n",
       "  <thead>\n",
       "    <tr style=\"text-align: right;\">\n",
       "      <th></th>\n",
       "      <th>Unnamed: 0</th>\n",
       "      <th>Score</th>\n",
       "      <th>Overs</th>\n",
       "      <th>RPO</th>\n",
       "      <th>Target</th>\n",
       "      <th>Inns</th>\n",
       "      <th>Result</th>\n",
       "      <th>Opposition</th>\n",
       "      <th>Ground</th>\n",
       "      <th>Start Date</th>\n",
       "      <th>Match_ID</th>\n",
       "      <th>Country</th>\n",
       "      <th>Country_ID</th>\n",
       "    </tr>\n",
       "  </thead>\n",
       "  <tbody>\n",
       "    <tr>\n",
       "      <th>902</th>\n",
       "      <td>1174</td>\n",
       "      <td>83/1</td>\n",
       "      <td>16.0</td>\n",
       "      <td>5.18</td>\n",
       "      <td>183.0</td>\n",
       "      <td>2</td>\n",
       "      <td>n/r</td>\n",
       "      <td>v Bangladesh</td>\n",
       "      <td>The Oval, London</td>\n",
       "      <td>5 Jun 2017</td>\n",
       "      <td>ODI # 3879</td>\n",
       "      <td>Australia</td>\n",
       "      <td>2</td>\n",
       "    </tr>\n",
       "    <tr>\n",
       "      <th>558</th>\n",
       "      <td>897</td>\n",
       "      <td>350/3</td>\n",
       "      <td>44.0</td>\n",
       "      <td>7.95</td>\n",
       "      <td>350.0</td>\n",
       "      <td>2</td>\n",
       "      <td>won</td>\n",
       "      <td>v New Zealand</td>\n",
       "      <td>Trent Bridge, Nottingham</td>\n",
       "      <td>17 Jun 2015</td>\n",
       "      <td>ODI # 3657</td>\n",
       "      <td>England</td>\n",
       "      <td>1</td>\n",
       "    </tr>\n",
       "    <tr>\n",
       "      <th>88</th>\n",
       "      <td>287</td>\n",
       "      <td>234/9</td>\n",
       "      <td>50.0</td>\n",
       "      <td>4.68</td>\n",
       "      <td>NaN</td>\n",
       "      <td>1</td>\n",
       "      <td>won</td>\n",
       "      <td>v Pakistan</td>\n",
       "      <td>Edgbaston, Birmingham</td>\n",
       "      <td>10 Jun 2013</td>\n",
       "      <td>ODI # 3367</td>\n",
       "      <td>SouthAfrica</td>\n",
       "      <td>3</td>\n",
       "    </tr>\n",
       "    <tr>\n",
       "      <th>156</th>\n",
       "      <td>854</td>\n",
       "      <td>59/3</td>\n",
       "      <td>15.1</td>\n",
       "      <td>3.89</td>\n",
       "      <td>NaN</td>\n",
       "      <td>1</td>\n",
       "      <td>n/r</td>\n",
       "      <td>v Australia</td>\n",
       "      <td>Edgbaston, Birmingham</td>\n",
       "      <td>11 Sep 2013</td>\n",
       "      <td>ODI # 3414</td>\n",
       "      <td>England</td>\n",
       "      <td>1</td>\n",
       "    </tr>\n",
       "    <tr>\n",
       "      <th>301</th>\n",
       "      <td>160</td>\n",
       "      <td>222/4</td>\n",
       "      <td>48.2</td>\n",
       "      <td>4.59</td>\n",
       "      <td>220.0</td>\n",
       "      <td>2</td>\n",
       "      <td>won</td>\n",
       "      <td>v England</td>\n",
       "      <td>Edgbaston, Birmingham</td>\n",
       "      <td>3 Jun 2014</td>\n",
       "      <td>ODI # 3496</td>\n",
       "      <td>SriLanka</td>\n",
       "      <td>8</td>\n",
       "    </tr>\n",
       "  </tbody>\n",
       "</table>\n",
       "</div>"
      ],
      "text/plain": [
       "     Unnamed: 0  Score  Overs   RPO  Target  Inns Result     Opposition  \\\n",
       "902        1174   83/1   16.0  5.18   183.0     2    n/r   v Bangladesh   \n",
       "558         897  350/3   44.0  7.95   350.0     2    won  v New Zealand   \n",
       "88          287  234/9   50.0  4.68     NaN     1    won     v Pakistan   \n",
       "156         854   59/3   15.1  3.89     NaN     1    n/r    v Australia   \n",
       "301         160  222/4   48.2  4.59   220.0     2    won      v England   \n",
       "\n",
       "                       Ground   Start Date    Match_ID      Country  \\\n",
       "902          The Oval, London   5 Jun 2017  ODI # 3879    Australia   \n",
       "558  Trent Bridge, Nottingham  17 Jun 2015  ODI # 3657      England   \n",
       "88      Edgbaston, Birmingham  10 Jun 2013  ODI # 3367  SouthAfrica   \n",
       "156     Edgbaston, Birmingham  11 Sep 2013  ODI # 3414      England   \n",
       "301     Edgbaston, Birmingham   3 Jun 2014  ODI # 3496     SriLanka   \n",
       "\n",
       "     Country_ID  \n",
       "902           2  \n",
       "558           1  \n",
       "88            3  \n",
       "156           1  \n",
       "301           8  "
      ]
     },
     "execution_count": 115,
     "metadata": {},
     "output_type": "execute_result"
    }
   ],
   "source": [
    "WC_Grounds_History.sample(5)"
   ]
  },
  {
   "cell_type": "code",
   "execution_count": 116,
   "id": "5487a6f6",
   "metadata": {},
   "outputs": [
    {
     "data": {
      "text/plain": [
       "Text(0, 0.5, 'Winning Percentage')"
      ]
     },
     "execution_count": 116,
     "metadata": {},
     "output_type": "execute_result"
    },
    {
     "data": {
      "image/png": "[encoded data removed]",
      "text/plain": [
       "<Figure size 432x288 with 1 Axes>"
      ]
     },
     "metadata": {
      "needs_background": "light"
     },
     "output_type": "display_data"
    }
   ],
   "source": [
    "Inning_Wins = WC_Grounds_History[WC_Grounds_History.Result == \"won\"].Inns.value_counts(normalize = True).reset_index()\n",
    "sns.barplot(x = \"index\", y = \"Inns\", data = Inning_Wins).set_title(\"Winnings by Innigs\")\n",
    "plt.xlabel(\"Innings\")\n",
    "plt.ylabel(\"Winning Percentage\")"
   ]
  },
  {
   "cell_type": "raw",
   "id": "9e894ef2",
   "metadata": {},
   "source": [
    "Those Teams which Bowl First has won around 55% of the matches."
   ]
  },
  {
   "cell_type": "code",
   "execution_count": 117,
   "id": "2e4ee106",
   "metadata": {},
   "outputs": [
    {
     "data": {
      "text/html": [
       "<div>\n",
       "<style scoped>\n",
       "    .dataframe tbody tr th:only-of-type {\n",
       "        vertical-align: middle;\n",
       "    }\n",
       "\n",
       "    .dataframe tbody tr th {\n",
       "        vertical-align: top;\n",
       "    }\n",
       "\n",
       "    .dataframe thead th {\n",
       "        text-align: right;\n",
       "    }\n",
       "</style>\n",
       "<table border=\"1\" class=\"dataframe\">\n",
       "  <thead>\n",
       "    <tr style=\"text-align: right;\">\n",
       "      <th></th>\n",
       "      <th>Ground</th>\n",
       "      <th>Inns</th>\n",
       "      <th>Wins</th>\n",
       "    </tr>\n",
       "  </thead>\n",
       "  <tbody>\n",
       "    <tr>\n",
       "      <th>0</th>\n",
       "      <td>County Ground, Bristol</td>\n",
       "      <td>1</td>\n",
       "      <td>33.333333</td>\n",
       "    </tr>\n",
       "    <tr>\n",
       "      <th>1</th>\n",
       "      <td>County Ground, Bristol</td>\n",
       "      <td>2</td>\n",
       "      <td>66.666667</td>\n",
       "    </tr>\n",
       "    <tr>\n",
       "      <th>2</th>\n",
       "      <td>Edgbaston, Birmingham</td>\n",
       "      <td>1</td>\n",
       "      <td>41.666667</td>\n",
       "    </tr>\n",
       "    <tr>\n",
       "      <th>3</th>\n",
       "      <td>Edgbaston, Birmingham</td>\n",
       "      <td>2</td>\n",
       "      <td>58.333333</td>\n",
       "    </tr>\n",
       "    <tr>\n",
       "      <th>4</th>\n",
       "      <td>Headingley, Leeds</td>\n",
       "      <td>1</td>\n",
       "      <td>40.000000</td>\n",
       "    </tr>\n",
       "  </tbody>\n",
       "</table>\n",
       "</div>"
      ],
      "text/plain": [
       "                   Ground  Inns       Wins\n",
       "0  County Ground, Bristol     1  33.333333\n",
       "1  County Ground, Bristol     2  66.666667\n",
       "2   Edgbaston, Birmingham     1  41.666667\n",
       "3   Edgbaston, Birmingham     2  58.333333\n",
       "4       Headingley, Leeds     1  40.000000"
      ]
     },
     "execution_count": 117,
     "metadata": {},
     "output_type": "execute_result"
    }
   ],
   "source": [
    "Pitch_Innings = WC_Grounds_History[WC_Grounds_History.Result == \"won\"][[\"Inns\",\"Ground\"]]\n",
    "Pitch_Innings[\"Count\"] = 1\n",
    "Pitch_Innings = Pitch_Innings.groupby([\"Ground\",\"Inns\"]).sum()\n",
    "Pitch_Innings = Pitch_Innings.groupby(level=0).apply(lambda x:100 * x / float(x.sum())).reset_index()\n",
    "Pitch_Innings.columns = [\"Ground\", \"Inns\",\"Wins\"]\n",
    "Pitch_Innings.head( 5 )"
   ]
  },
  {
   "cell_type": "code",
   "execution_count": 118,
   "id": "6c390069",
   "metadata": {},
   "outputs": [
    {
     "data": {
      "text/plain": [
       "(array([0, 1, 2, 3, 4, 5, 6, 7, 8, 9]),\n",
       " [Text(0, 0, 'County Ground, Bristol'),\n",
       "  Text(1, 0, 'Edgbaston, Birmingham'),\n",
       "  Text(2, 0, 'Headingley, Leeds'),\n",
       "  Text(3, 0, \"Lord's, London\"),\n",
       "  Text(4, 0, 'Old Trafford, Manchester'),\n",
       "  Text(5, 0, 'Riverside Ground, Chester-le-Street'),\n",
       "  Text(6, 0, 'Rose Bowl, Southampton'),\n",
       "  Text(7, 0, 'Sophia Gardens, Cardiff'),\n",
       "  Text(8, 0, 'The Oval, London'),\n",
       "  Text(9, 0, 'Trent Bridge, Nottingham')])"
      ]
     },
     "execution_count": 118,
     "metadata": {},
     "output_type": "execute_result"
    },
    {
     "data": {
      "image/png": "[encoded data removed]",
      "text/plain": [
       "<Figure size 1080x576 with 1 Axes>"
      ]
     },
     "metadata": {
      "needs_background": "light"
     },
     "output_type": "display_data"
    }
   ],
   "source": [
    "plt.figure(figsize=(15,8))\n",
    "sns.barplot(x = \"Ground\", y = \"Wins\", hue = \"Inns\", data = Pitch_Innings).set_title(\"Innings vs Winnings\")\n",
    "plt.xticks(rotation = 60)"
   ]
  },
  {
   "cell_type": "markdown",
   "id": "4fc756c9",
   "metadata": {},
   "source": [
    "Teams that Bat second will Win most of the times."
   ]
  },
  {
   "cell_type": "raw",
   "id": "47cb4ec7",
   "metadata": {},
   "source": [
    "If a Team Bats First, How much should it score to win majority of times?\n",
    "If a Team Bowls First, How much should the Bowling Team restrict the Runs?"
   ]
  },
  {
   "cell_type": "code",
   "execution_count": 121,
   "id": "5e4a8c65",
   "metadata": {},
   "outputs": [],
   "source": [
    "WC_Grounds_History = WC_Grounds_History[~WC_Grounds_History.Score.str.contains(\"D\")]"
   ]
  },
  {
   "cell_type": "code",
   "execution_count": 122,
   "id": "6901a900",
   "metadata": {},
   "outputs": [
    {
     "data": {
      "text/plain": [
       "Text(0, 0.5, 'Scores')"
      ]
     },
     "execution_count": 122,
     "metadata": {},
     "output_type": "execute_result"
    },
    {
     "data": {
      "image/png": "[encoded data removed]",
      "text/plain": [
       "<Figure size 1080x576 with 1 Axes>"
      ]
     },
     "metadata": {
      "needs_background": "light"
     },
     "output_type": "display_data"
    }
   ],
   "source": [
    "Scores = [int(item[0]) for item in WC_Grounds_History.Score.str.split(\"/\")]\n",
    "WC_Grounds_History[\"Score_without_wickets\"] = Scores\n",
    "Stadium_Scores = WC_Grounds_History[[\"Score_without_wickets\",\"Ground\"]]\n",
    "Stadium_Scores = Stadium_Scores[Stadium_Scores.Score_without_wickets > 50]\n",
    "plt.figure(figsize=(15,8))\n",
    "#sns.barplot(x = \"Country\", y = \"Count\", hue = \"Result\", data = Ground_Results_Per_Team)\n",
    "plt.xticks(rotation = 60)\n",
    "sns.violinplot(x = \"Ground\", y = \"Score_without_wickets\",data = Stadium_Scores).set_title(\"Scores vs Pitches\")\n",
    "plt.ylabel(\"Scores\")"
   ]
  },
  {
   "cell_type": "raw",
   "id": "6e19276d",
   "metadata": {},
   "source": [
    "Trent Bridge, Nottingham, County Ground, Bristol and Headingley, Leeds are good scoring Pitches"
   ]
  },
  {
   "cell_type": "code",
   "execution_count": 123,
   "id": "0f710ab5",
   "metadata": {},
   "outputs": [
    {
     "data": {
      "text/plain": [
       "Text(0, 0.5, 'Scores')"
      ]
     },
     "execution_count": 123,
     "metadata": {},
     "output_type": "execute_result"
    },
    {
     "data": {
      "image/png": "[encoded data removed]",
      "text/plain": [
       "<Figure size 1080x576 with 1 Axes>"
      ]
     },
     "metadata": {
      "needs_background": "light"
     },
     "output_type": "display_data"
    }
   ],
   "source": [
    "Stadium_Scores = Stadium_Scores[Stadium_Scores.Score_without_wickets > 50]\n",
    "Stadium_Scores = Stadium_Scores.groupby(\"Ground\").mean().reset_index()\n",
    "plt.figure(figsize=(15,8))\n",
    "sns.barplot(x = \"Ground\", y = \"Score_without_wickets\", data = Stadium_Scores).set_title(\"Average Scores of Pitches\")\n",
    "plt.xticks(rotation = 60)\n",
    "plt.ylabel(\"Scores\")"
   ]
  },
  {
   "cell_type": "raw",
   "id": "b60f6a86",
   "metadata": {},
   "source": [
    "Trent Bridge, Nottingham, has an average score around 300. It shows that, Teams which play here can benifit much by scoring runs. If the team takes quick wickets and win by huge margin, then run rate will be more which can help in getting into semis."
   ]
  },
  {
   "cell_type": "markdown",
   "id": "3536bb10",
   "metadata": {},
   "source": [
    "### Analyzing No.of Wickets in these Pitches"
   ]
  },
  {
   "cell_type": "code",
   "execution_count": 125,
   "id": "ad25cd19",
   "metadata": {},
   "outputs": [],
   "source": [
    "def no_of_wickets(value):\n",
    "    if \"/\" not in value:\n",
    "        return 10\n",
    "    elif \"D\" in value:\n",
    "        return 0\n",
    "    else:\n",
    "        return int(value.split(\"/\")[1])"
   ]
  },
  {
   "cell_type": "code",
   "execution_count": 126,
   "id": "c3d495e9",
   "metadata": {},
   "outputs": [
    {
     "data": {
      "text/plain": [
       "(array([0, 1, 2, 3, 4, 5, 6, 7, 8, 9]),\n",
       " [Text(0, 0, 'County Ground, Bristol'),\n",
       "  Text(1, 0, 'Edgbaston, Birmingham'),\n",
       "  Text(2, 0, 'Headingley, Leeds'),\n",
       "  Text(3, 0, \"Lord's, London\"),\n",
       "  Text(4, 0, 'Old Trafford, Manchester'),\n",
       "  Text(5, 0, 'Riverside Ground, Chester-le-Street'),\n",
       "  Text(6, 0, 'Rose Bowl, Southampton'),\n",
       "  Text(7, 0, 'Sophia Gardens, Cardiff'),\n",
       "  Text(8, 0, 'The Oval, London'),\n",
       "  Text(9, 0, 'Trent Bridge, Nottingham')])"
      ]
     },
     "execution_count": 126,
     "metadata": {},
     "output_type": "execute_result"
    },
    {
     "data": {
      "image/png": "[encoded data removed]",
      "text/plain": [
       "<Figure size 1080x576 with 1 Axes>"
      ]
     },
     "metadata": {
      "needs_background": "light"
     },
     "output_type": "display_data"
    }
   ],
   "source": [
    "WC_Grounds_History[\"Total_Wickets\"] = WC_Grounds_History.Score.apply(no_of_wickets)\n",
    "\n",
    "Stadium_Wickets = WC_Grounds_History[[\"Total_Wickets\",\"Ground\"]]\n",
    "Stadium_Wickets = Stadium_Wickets.groupby(\"Ground\").mean().reset_index()\n",
    "\n",
    "plt.figure(figsize=(15,8))\n",
    "sns.barplot(x = \"Ground\", y = \"Total_Wickets\", data = Stadium_Wickets).set_title(\"Average No.of Wickets Per Innings\")\n",
    "plt.xticks(rotation = 60)"
   ]
  },
  {
   "cell_type": "raw",
   "id": "c3955c2b",
   "metadata": {},
   "source": [
    "Minimum no.of Wickets for any innings is usually 6-7"
   ]
  },
  {
   "cell_type": "code",
   "execution_count": 127,
   "id": "77cfe998",
   "metadata": {},
   "outputs": [
    {
     "data": {
      "text/plain": [
       "{'Newzealad': {'matches_played': 1,\n",
       "  'matches_won': 1,\n",
       "  'winning_percentage': 100.0},\n",
       " 'England': {'matches_played': 7,\n",
       "  'matches_won': 3,\n",
       "  'winning_percentage': 42.857142857142854},\n",
       " 'SouthAfrica': {'matches_played': 1,\n",
       "  'matches_won': 1,\n",
       "  'winning_percentage': 100.0},\n",
       " 'India': {'matches_played': 1, 'matches_won': 0, 'winning_percentage': 0.0},\n",
       " 'Pakistan': {'matches_played': 1,\n",
       "  'matches_won': 0,\n",
       "  'winning_percentage': 0.0},\n",
       " 'Australia': {'matches_played': 1,\n",
       "  'matches_won': 1,\n",
       "  'winning_percentage': 100.0},\n",
       " 'SriLanka': {'matches_played': 1,\n",
       "  'matches_won': 1,\n",
       "  'winning_percentage': 100.0}}"
      ]
     },
     "execution_count": 127,
     "metadata": {},
     "output_type": "execute_result"
    }
   ],
   "source": [
    "Grounds = WC_Grounds_History.Ground.unique()\n",
    "WC_Teams = WC_Grounds_History.Country.unique()\n",
    "Ground_Winnings = {}\n",
    "for Ground in Grounds:\n",
    "    Ground_Winnings.update({Ground : {}})\n",
    "    for Team in WC_Teams:\n",
    "        Country_Ground_Record = WC_Grounds_History[(WC_Grounds_History.Country == Team) & \\\n",
    "                                                   (WC_Grounds_History.Ground == Ground)]\n",
    "        #print(\"Ground : \", Ground, \"Team : \", Team)\n",
    "        matches_played = len(Country_Ground_Record)\n",
    "        if matches_played == 0:\n",
    "            continue\n",
    "        matches_won = len(Country_Ground_Record[Country_Ground_Record.Result == \"won\"])\n",
    "        winning_percentage = matches_won / matches_played * 100\n",
    "        Ground_Winnings[Ground].update({Team : {\"matches_played\" : matches_played,\\\n",
    "                                       \"matches_won\": matches_won,\\\n",
    "                                       \"winning_percentage\" : winning_percentage}})\n",
    "Ground_Winnings[\"Lord's, London\"]"
   ]
  },
  {
   "cell_type": "markdown",
   "id": "3b599f90",
   "metadata": {},
   "source": [
    "We have collected the Data according to Team wise wins in respective Stadiums. Lets plot to understand the Results"
   ]
  },
  {
   "cell_type": "code",
   "execution_count": 129,
   "id": "912d080b",
   "metadata": {},
   "outputs": [],
   "source": [
    "Data_Frame_Data = []\n",
    "for Pitch, P_Data in Ground_Winnings.items():\n",
    "    \n",
    "    for Team, Team_Data in P_Data.items():\n",
    "        inside = []\n",
    "        inside.extend([Pitch,Team,Team_Data[\"matches_played\"],\\\n",
    "                       Team_Data[\"matches_won\"],Team_Data[\"winning_percentage\"]])\n",
    "        Data_Frame_Data.append(inside)"
   ]
  },
  {
   "cell_type": "code",
   "execution_count": 130,
   "id": "f735f3bd",
   "metadata": {},
   "outputs": [],
   "source": [
    "Columns = [\"Ground\", \"Country\",\"Played\",\"Won\",\"Win_Percentage\"]\n",
    "Data_Frame_Data\n",
    "Pitch_Team_Winnings = pd.DataFrame(Data_Frame_Data, columns=Columns)"
   ]
  },
  {
   "cell_type": "code",
   "execution_count": 131,
   "id": "75ac51d3",
   "metadata": {},
   "outputs": [
    {
     "data": {
      "text/plain": [
       "(array([0, 1, 2, 3, 4, 5, 6, 7, 8, 9]),\n",
       " [Text(0, 0, \"Lord's, London\"),\n",
       "  Text(1, 0, 'Rose Bowl, Southampton'),\n",
       "  Text(2, 0, 'Trent Bridge, Nottingham'),\n",
       "  Text(3, 0, 'Sophia Gardens, Cardiff'),\n",
       "  Text(4, 0, 'The Oval, London'),\n",
       "  Text(5, 0, 'Edgbaston, Birmingham'),\n",
       "  Text(6, 0, 'Old Trafford, Manchester'),\n",
       "  Text(7, 0, 'Riverside Ground, Chester-le-Street'),\n",
       "  Text(8, 0, 'Headingley, Leeds'),\n",
       "  Text(9, 0, 'County Ground, Bristol')])"
      ]
     },
     "execution_count": 131,
     "metadata": {},
     "output_type": "execute_result"
    },
    {
     "data": {
      "image/png": "[encoded data removed]",
      "text/plain": [
       "<Figure size 1080x576 with 1 Axes>"
      ]
     },
     "metadata": {
      "needs_background": "light"
     },
     "output_type": "display_data"
    }
   ],
   "source": [
    "Pitch_Team_Winnings\n",
    "plt.figure(figsize=(15,8))\n",
    "sns.barplot(x = \"Ground\", y = \"Win_Percentage\",hue = \"Country\", data = Pitch_Team_Winnings,\\\n",
    "            hue_order = [\"India\",\"England\",\"Pakistan\",\"Australia\"])\n",
    "plt.xticks(rotation = 60)"
   ]
  },
  {
   "cell_type": "markdown",
   "id": "84c94bbc",
   "metadata": {},
   "source": [
    "Some Nations have Winning Percentage of 0 in few Stadiums(Either they might not play or never won).      \n",
    "England, India has winning percentage of 100 in few Stadiums."
   ]
  },
  {
   "cell_type": "code",
   "execution_count": 133,
   "id": "cadc7ae0",
   "metadata": {},
   "outputs": [
    {
     "data": {
      "text/plain": [
       "(array([0, 1, 2, 3, 4, 5, 6, 7, 8, 9]),\n",
       " [Text(0, 0, \"Lord's, London\"),\n",
       "  Text(1, 0, 'Rose Bowl, Southampton'),\n",
       "  Text(2, 0, 'Trent Bridge, Nottingham'),\n",
       "  Text(3, 0, 'Sophia Gardens, Cardiff'),\n",
       "  Text(4, 0, 'The Oval, London'),\n",
       "  Text(5, 0, 'Edgbaston, Birmingham'),\n",
       "  Text(6, 0, 'Old Trafford, Manchester'),\n",
       "  Text(7, 0, 'Riverside Ground, Chester-le-Street'),\n",
       "  Text(8, 0, 'Headingley, Leeds'),\n",
       "  Text(9, 0, 'County Ground, Bristol')])"
      ]
     },
     "execution_count": 133,
     "metadata": {},
     "output_type": "execute_result"
    },
    {
     "data": {
      "image/png": "[encoded data removed]",
      "text/plain": [
       "<Figure size 1080x576 with 1 Axes>"
      ]
     },
     "metadata": {
      "needs_background": "light"
     },
     "output_type": "display_data"
    }
   ],
   "source": [
    "plt.figure(figsize=(15,8))\n",
    "sns.barplot(x = \"Ground\", y = \"Win_Percentage\",hue = \"Country\", data = Pitch_Team_Winnings,\\\n",
    "            hue_order = [\"SouthAfrica\",\"Newzealad\",\"WestIndies\",\"SriLanka\"])\n",
    "plt.xticks(rotation = 60)"
   ]
  },
  {
   "cell_type": "markdown",
   "id": "5bcc8f09",
   "metadata": {},
   "source": [
    "### Best Batsman who gonna perform well in WC 2019"
   ]
  },
  {
   "cell_type": "markdown",
   "id": "776b2f4c",
   "metadata": {},
   "source": [
    "1. Batsmen with Average above 40\n",
    "2. Batsmen with Best Strike Rate\n",
    "3. Batsmen with Highest No.Of Fours, Sixers"
   ]
  },
  {
   "cell_type": "code",
   "execution_count": null,
   "id": "840c1ad2",
   "metadata": {},
   "outputs": [],
   "source": []
  }
 ],
 "metadata": {
  "kernelspec": {
   "display_name": "Python 3 (ipykernel)",
   "language": "python",
   "name": "python3"
  },
  "language_info": {
   "codemirror_mode": {
    "name": "ipython",
    "version": 3
   },
   "file_extension": ".py",
   "mimetype": "text/x-python",
   "name": "python",
   "nbconvert_exporter": "python",
   "pygments_lexer": "ipython3",
   "version": "3.9.12"
  }
 },
 "nbformat": 4,
 "nbformat_minor": 5
}
